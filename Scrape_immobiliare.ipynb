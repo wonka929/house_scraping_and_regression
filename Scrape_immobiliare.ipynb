{
 "cells": [
  {
   "cell_type": "code",
   "execution_count": 1,
   "metadata": {},
   "outputs": [],
   "source": [
    "import requests\n",
    "from bs4 import BeautifulSoup\n",
    "import pandas as pd\n",
    "from tqdm import tqdm_notebook as tqdm"
   ]
  },
  {
   "cell_type": "code",
   "execution_count": 2,
   "metadata": {},
   "outputs": [],
   "source": [
    "website = \"https://www.immobiliare.it/affitto-case/torino\""
   ]
  },
  {
   "cell_type": "code",
   "execution_count": 3,
   "metadata": {},
   "outputs": [],
   "source": [
    "def get_pages(main):\n",
    "    try:\n",
    "        soup = connect(main)\n",
    "        max = soup.find_all(\"span\", class_=\"pagination__label\")\n",
    "        last_page = int(max[-1].contents[0])\n",
    "        pages = [main]\n",
    "        \n",
    "        for n in range(2,last_page):    \n",
    "            page_num = \"/?pag={}\".format(n)\n",
    "            pages.append(main + page_num)\n",
    "    except:\n",
    "        pages = [main]\n",
    "        \n",
    "    return pages\n",
    "\n",
    "def connect(web_addr):\n",
    "    resp = requests.get(web_addr)\n",
    "    return BeautifulSoup(resp.content, \"html.parser\")\n",
    "    \n",
    "\n",
    "def create_df(offers):\n",
    "    price = []\n",
    "    rooms = []\n",
    "    surface = []\n",
    "    bathrooms = []\n",
    "    floor = []\n",
    "    \n",
    "    for offer in offers:\n",
    "        l = list(offer.stripped_strings)\n",
    "        \n",
    "        if \"€\" in l[0]:\n",
    "            stripped = l[0].replace(\"€ \", \"\").replace(\".\",\"\")\n",
    "            price.append(stripped)\n",
    "        else:\n",
    "            price.append(None)\n",
    "            \n",
    "        if \"locali\" in l:\n",
    "            r = l.index(\"locali\")-1\n",
    "            rooms.append(l[r])\n",
    "        else:\n",
    "            rooms.append(None)\n",
    "            \n",
    "        if \"m\" in l:\n",
    "            s = l.index(\"m\")-1\n",
    "            surface.append(l[s])\n",
    "        else:\n",
    "            surface.append(None)\n",
    "            \n",
    "        if \"bagni\" in l:\n",
    "            b = l.index(\"bagni\")-1\n",
    "            bathrooms.append(l[b])\n",
    "        else:\n",
    "            bathrooms.append(None)\n",
    "            \n",
    "        if \"piano\" in l:\n",
    "            fl = l.index(\"piano\")-1\n",
    "            floor.append(l[fl])\n",
    "        else:\n",
    "            floor.append(None)\n",
    "                    \n",
    "    return pd.DataFrame.from_dict({\"Price\": price, \"Rooms\": rooms, \"Surface\": surface, \"Bathrooms\": bathrooms, \"Floor\": floor})\n",
    "    \n",
    "def collect(url):\n",
    "    pages = get_pages(url)\n",
    "    df = pd.DataFrame(columns=[\"Price\", \"Rooms\", \"Surface\", \"Bathrooms\", \"Floor\"])\n",
    "    \n",
    "    for page in tqdm(pages):\n",
    "        soup = connect(page)\n",
    "        offers = soup.find_all(\"ul\", class_=\"listing-features list-piped\")\n",
    "        data = create_df(offers)\n",
    "        df = df.append(data, ignore_index=True)\n",
    "    \n",
    "    df['Zona'] = url.rsplit('/', 1)[-1]\n",
    "\n",
    "    return df\n",
    "\n",
    "def get_areas(website):\n",
    "    data = connect(website)\n",
    "    areas = []\n",
    "    for ultag in data.find_all('ul', {'class': 'breadcrumb-list breadcrumb-list_list thebigonelist--mouse'}):\n",
    "        for litag in ultag.find_all('li'):\n",
    "            for i in range(len(litag.text.split(','))):\n",
    "                areas.append(litag.text.split(',')[i])\n",
    "    areas = [x.strip() for x in areas]\n",
    "    urls = []\n",
    "    \n",
    "    for area in areas:\n",
    "        url = website + '/' + area.replace(' ','-').lower()\n",
    "        urls.append(url)\n",
    "    \n",
    "    return urls\n",
    "\n",
    "def get_apartment_links(website):\n",
    "    data = connect(website)\n",
    "    links = []\n",
    "    for link in data.find_all('ul', {'class': 'annunci-list'}):\n",
    "        for litag in link.find_all('li'):\n",
    "            try:\n",
    "                #return litag.a.get('href')\n",
    "                links.append(litag.a.get('href'))\n",
    "            except:\n",
    "                continue\n",
    "    return links\n",
    "\n",
    "def scrape_link(website):\n",
    "    data = connect(website)\n",
    "    nomi = []\n",
    "    valori = []\n",
    "    for link in data.find_all('dd', {'class': 'col-xs-12'}):\n",
    "        try:\n",
    "            valore_affitto = link.find(\"span\")\n",
    "            if valore_affitto.string != None:\n",
    "                valori.append(valore_affitto.string)\n",
    "        except:\n",
    "            pass\n",
    "        \n",
    "        if link.string == None:\n",
    "            pass\n",
    "        else:\n",
    "            valori.append(link.string)\n",
    "    \n",
    "    for link in data.find_all('dt'):\n",
    "        if link.string == None:\n",
    "            pass\n",
    "        else:\n",
    "            nomi.append(link.string)\n",
    "    \n",
    "    valori = remove_duplicates(valori)\n",
    "    nomi = remove_duplicates(nomi)\n",
    "    return nomi, valori\n",
    "\n",
    "def remove_duplicates(x):\n",
    "    return list(dict.fromkeys(x))\n"
   ]
  },
  {
   "cell_type": "code",
   "execution_count": null,
   "metadata": {},
   "outputs": [],
   "source": [
    "urls = get_areas(website)\n",
    "data = pd.DataFrame()\n",
    "for url in urls:\n",
    "    print(url.rsplit('/', 1)[-1])\n",
    "    dati = collect(url)\n",
    "    data = data.append(dati)\n",
    "\n",
    "#dati.to_csv('output.csv', sep=',', decimal='.')"
   ]
  },
  {
   "cell_type": "code",
   "execution_count": 4,
   "metadata": {},
   "outputs": [],
   "source": [
    "urls = get_areas(website)"
   ]
  },
  {
   "cell_type": "code",
   "execution_count": 5,
   "metadata": {},
   "outputs": [
    {
     "name": "stdout",
     "output_type": "stream",
     "text": [
      "['https://www.immobiliare.it/affitto-case/torino/centro', 'https://www.immobiliare.it/affitto-case/torino/crocetta', 'https://www.immobiliare.it/affitto-case/torino/san-secondo', 'https://www.immobiliare.it/affitto-case/torino/cavoretto', 'https://www.immobiliare.it/affitto-case/torino/gran-madre', 'https://www.immobiliare.it/affitto-case/torino/colle-della-maddalena', 'https://www.immobiliare.it/affitto-case/torino/superga', 'https://www.immobiliare.it/affitto-case/torino/borgo-san-paolo', 'https://www.immobiliare.it/affitto-case/torino/cenisia', 'https://www.immobiliare.it/affitto-case/torino/lingotto', 'https://www.immobiliare.it/affitto-case/torino/nizza-millefonti', 'https://www.immobiliare.it/affitto-case/torino/regio-parco', 'https://www.immobiliare.it/affitto-case/torino/vanchiglia', 'https://www.immobiliare.it/affitto-case/torino/vanchiglietta', 'https://www.immobiliare.it/affitto-case/torino/aurora', 'https://www.immobiliare.it/affitto-case/torino/barriera-di-milano', 'https://www.immobiliare.it/affitto-case/torino/rebaudengo', 'https://www.immobiliare.it/affitto-case/torino/barriera-di-lanzo', 'https://www.immobiliare.it/affitto-case/torino/falchera', 'https://www.immobiliare.it/affitto-case/torino/barca', 'https://www.immobiliare.it/affitto-case/torino/bertolla', 'https://www.immobiliare.it/affitto-case/torino/borgo-vittoria', 'https://www.immobiliare.it/affitto-case/torino/parco-dora', 'https://www.immobiliare.it/affitto-case/torino/le-vallette', 'https://www.immobiliare.it/affitto-case/torino/lucento', 'https://www.immobiliare.it/affitto-case/torino/madonna-di-campagna', 'https://www.immobiliare.it/affitto-case/torino/pozzo-strada', 'https://www.immobiliare.it/affitto-case/torino/parella', 'https://www.immobiliare.it/affitto-case/torino/santa-rita', 'https://www.immobiliare.it/affitto-case/torino/mirafiori-nord', 'https://www.immobiliare.it/affitto-case/torino/campidoglio', 'https://www.immobiliare.it/affitto-case/torino/san-donato', 'https://www.immobiliare.it/affitto-case/torino/cit-turin', 'https://www.immobiliare.it/affitto-case/torino/madonna-del-pilone', 'https://www.immobiliare.it/affitto-case/torino/sassi', 'https://www.immobiliare.it/affitto-case/torino/mirafiori-sud', 'https://www.immobiliare.it/affitto-case/torino/san-salvario']\n"
     ]
    }
   ],
   "source": [
    "print(urls)"
   ]
  },
  {
   "cell_type": "code",
   "execution_count": 5,
   "metadata": {},
   "outputs": [],
   "source": [
    "data.to_csv('output.csv', sep=',', decimal='.')"
   ]
  },
  {
   "cell_type": "code",
   "execution_count": null,
   "metadata": {},
   "outputs": [],
   "source": []
  },
  {
   "cell_type": "code",
   "execution_count": null,
   "metadata": {},
   "outputs": [],
   "source": [
    "data.append(dati)"
   ]
  },
  {
   "cell_type": "code",
   "execution_count": 14,
   "metadata": {},
   "outputs": [
    {
     "name": "stderr",
     "output_type": "stream",
     "text": [
      "C:\\Users\\Francesco Manghi\\Anaconda3\\lib\\site-packages\\ipykernel_launcher.py:5: TqdmDeprecationWarning: This function will be removed in tqdm==5.0.0\n",
      "Please use `tqdm.notebook.tqdm` instead of `tqdm.tqdm_notebook`\n",
      "  \"\"\"\n"
     ]
    },
    {
     "data": {
      "application/vnd.jupyter.widget-view+json": {
       "model_id": "d78dbdc83d7143cc8d43fbc0af2a2009",
       "version_major": 2,
       "version_minor": 0
      },
      "text/plain": [
       "HBox(children=(IntProgress(value=0, max=37), HTML(value='')))"
      ]
     },
     "metadata": {},
     "output_type": "display_data"
    },
    {
     "name": "stdout",
     "output_type": "stream",
     "text": [
      "\n"
     ]
    }
   ],
   "source": [
    "## INIZIALIZZAZIONE CICLO SCRAPING\n",
    "indirizzo = []\n",
    "location = []\n",
    "\n",
    "for url in tqdm(urls):\n",
    "    pages = get_pages(url)\n",
    "    for page in pages:\n",
    "        #print(page)\n",
    "        add = get_apartment_links(page)\n",
    "        #print(add)\n",
    "        indirizzo.append(add)\n",
    "        for num in range(0,len(add)):\n",
    "            location.append(url.rsplit('/', 1)[-1])\n",
    "        \n",
    "        #print(links)\n",
    "        #soup = connect(page)\n",
    "        #offers = soup.find_all(\"ul\", class_=\"listing-features list-piped\")\n",
    "        #data = create_df(offers)\n",
    "        #df = df.append(data, ignore_index=True)\n",
    "        \n",
    "indirizzi = [item for valore in indirizzo for item in valore]"
   ]
  },
  {
   "cell_type": "code",
   "execution_count": 17,
   "metadata": {},
   "outputs": [
    {
     "data": {
      "text/plain": [
       "1727"
      ]
     },
     "execution_count": 17,
     "metadata": {},
     "output_type": "execute_result"
    }
   ],
   "source": [
    "len(indirizzi)"
   ]
  },
  {
   "cell_type": "code",
   "execution_count": null,
   "metadata": {},
   "outputs": [],
   "source": [
    "## DATAFRAME VERTICALE____NON USARE\n",
    "\n",
    "df_scrape = pd.DataFrame()\n",
    "variabili = ['Riferimento e Data annuncio', 'Contratto', 'Tipologia', 'Superficie', 'Locali', 'Piano', 'Disponibilità', 'Tipo proprietà', 'Prezzo', 'Spese condominio', 'Spese riscaldamento', 'Informazioni catastali', 'Anno di costruzione', 'Stato', 'Riscaldamento', 'Climatizzatore', 'Classe energetica', 'Prestazione energetica del fabbricato']\n",
    "df_scrape[0] = variabili\n",
    "df_scrape.set_index(0, inplace=True, drop=True)\n",
    "print(df_scrape)\n",
    "for link in links:\n",
    "    try:\n",
    "        nomi, valori = scrape_link(link)\n",
    "        df_temporaneo = pd.DataFrame()\n",
    "        df_temporaneo['Nomi'] = nomi\n",
    "        df_temporaneo.set_index('Nomi',inplace=True,drop=True)\n",
    "        print(len(nomi),len(valori))\n",
    "        while len(valori)<len(nomi):\n",
    "            valori.append(0)\n",
    "        print(len(valori[0:len(nomi)]))\n",
    "        df_temporaneo['Valori'] = valori[0:len(nomi)]\n",
    "        print(df_temporaneo)\n",
    "        df_scrape = df_scrape.merge(df_temporaneo, how='left', left_index=True, right_index=True)\n",
    "    except Exception as e:\n",
    "        print(e)\n",
    "        continue"
   ]
  },
  {
   "cell_type": "code",
   "execution_count": 18,
   "metadata": {},
   "outputs": [
    {
     "name": "stderr",
     "output_type": "stream",
     "text": [
      "C:\\Users\\Francesco Manghi\\Anaconda3\\lib\\site-packages\\ipykernel_launcher.py:7: TqdmDeprecationWarning: This function will be removed in tqdm==5.0.0\n",
      "Please use `tqdm.notebook.tqdm` instead of `tqdm.tqdm_notebook`\n",
      "  import sys\n"
     ]
    },
    {
     "data": {
      "application/vnd.jupyter.widget-view+json": {
       "model_id": "d45c64164e2a412bbbfcb07039d18c87",
       "version_major": 2,
       "version_minor": 0
      },
      "text/plain": [
       "HBox(children=(IntProgress(value=0, max=1727), HTML(value='')))"
      ]
     },
     "metadata": {},
     "output_type": "display_data"
    },
    {
     "name": "stdout",
     "output_type": "stream",
     "text": [
      "HTTPSConnectionPool(host='www.immobiliare.it', port=443): Max retries exceeded with url: /annunci/76349690/ (Caused by NewConnectionError(\"<urllib3.connection.VerifiedHTTPSConnection object at 0x000001EAE7822988>: Failed to establish a new connection: [WinError 10060] Impossibile stabilire la connessione. Risposta non corretta della parte connessa dopo l'intervallo di tempo oppure mancata risposta dall'host collegato\"))\n",
      "\n"
     ]
    }
   ],
   "source": [
    "## DATAFRAME ORIZZONTALE__USARE\n",
    "\n",
    "variabili = ['Riferimento e Data annuncio', 'Contratto', 'Tipologia', 'Superficie', 'Locali', 'Piano', 'Disponibilità', 'Tipo proprietà', 'Prezzo', 'Spese condominio', 'Spese riscaldamento', 'Informazioni catastali', 'Anno di costruzione', 'Stato', 'Riscaldamento', 'Climatizzatore', 'Classe energetica', 'Prestazione energetica del fabbricato']\n",
    "df_scrape = pd.DataFrame(columns=variabili)\n",
    "#df_scrape.set_index(0, inplace=True, drop=True)\n",
    "#print(df_scrape)\n",
    "for link in tqdm(list(indirizzi)):\n",
    "    #print(link)\n",
    "    try:\n",
    "        nomi, valori = scrape_link(link)\n",
    "        df_temporaneo = pd.DataFrame(columns=nomi)\n",
    "        #df_temporaneo['Nomi'] = nomi\n",
    "        #df_temporaneo.set_index('Nomi',inplace=True,drop=True)\n",
    "        #print(len(nomi),len(valori))\n",
    "        while len(valori)<len(nomi):\n",
    "            valori.append(0)\n",
    "        #print(len(valori[0:len(nomi)]))\n",
    "        df_temporaneo.loc[len(df_temporaneo), :] = valori[0:len(nomi)]\n",
    "        #print(df_temporaneo)\n",
    "        df_scrape = df_scrape.append(df_temporaneo, sort=False)\n",
    "    except Exception as e:\n",
    "        print(e)\n",
    "        continue"
   ]
  },
  {
   "cell_type": "code",
   "execution_count": 28,
   "metadata": {},
   "outputs": [],
   "source": [
    "#df_scrape\n",
    "df_scrape['Zona'] = location[1:len(location)]\n",
    "df_scrape.to_csv('dataset.csv', sep=\";\")"
   ]
  },
  {
   "cell_type": "code",
   "execution_count": 29,
   "metadata": {},
   "outputs": [
    {
     "data": {
      "text/plain": [
       "(1726, 27)"
      ]
     },
     "execution_count": 29,
     "metadata": {},
     "output_type": "execute_result"
    }
   ],
   "source": [
    "df_scrape.shape"
   ]
  },
  {
   "cell_type": "code",
   "execution_count": 30,
   "metadata": {},
   "outputs": [],
   "source": [
    "df_scrape = df_scrape[['Contratto', 'Zona', 'Tipologia', 'Superficie', 'Locali', 'Piano', 'Tipo proprietà', 'Prezzo', 'Spese condominio', 'Spese riscaldamento','Anno di costruzione', 'Stato', 'Riscaldamento', 'Climatizzatore', 'Classe energetica']]"
   ]
  },
  {
   "cell_type": "code",
   "execution_count": 91,
   "metadata": {},
   "outputs": [],
   "source": [
    "dataset = pd.read_csv('dataset.csv', sep=\";\")"
   ]
  },
  {
   "cell_type": "code",
   "execution_count": 92,
   "metadata": {},
   "outputs": [],
   "source": [
    "dataset = dataset[['Contratto', 'Zona', 'Tipologia', 'Superficie', 'Locali', 'Piano', 'Tipo proprietà', 'Prezzo', 'Spese condominio', 'Spese riscaldamento','Anno di costruzione', 'Stato', 'Riscaldamento', 'Climatizzatore', 'Classe energetica']]"
   ]
  },
  {
   "cell_type": "code",
   "execution_count": 93,
   "metadata": {},
   "outputs": [
    {
     "data": {
      "text/plain": [
       "1727"
      ]
     },
     "execution_count": 93,
     "metadata": {},
     "output_type": "execute_result"
    }
   ],
   "source": [
    "len(location)"
   ]
  },
  {
   "cell_type": "code",
   "execution_count": 94,
   "metadata": {},
   "outputs": [],
   "source": [
    "def cleanup(df):\n",
    "    price = []\n",
    "    rooms = []\n",
    "    surface = []\n",
    "    bathrooms = []\n",
    "    floor = []\n",
    "    contract = []\n",
    "    tipo = []\n",
    "    condominio = []\n",
    "    heating = []\n",
    "    built_in = []\n",
    "    state = []\n",
    "    riscaldamento = []\n",
    "    cooling = []\n",
    "    energy_class = []\n",
    "    tipologia = []\n",
    "    cazzo = []\n",
    "    \n",
    "    for tipo in df['Tipologia']:\n",
    "        try:\n",
    "            tipologia.append(tipo)\n",
    "        except:\n",
    "            tipologia.append(None)\n",
    "    \n",
    "    for superficie in df['Superficie']:\n",
    "        if \"m\" in superficie:\n",
    "            s = superficie.replace(\" m²\", \"\")\n",
    "            surface.append(s)\n",
    "        else:\n",
    "            surface.append(None)\n",
    "    \n",
    "    for locali in df['Locali']:\n",
    "        try:\n",
    "            rooms.append(locali[0:1])\n",
    "        except:\n",
    "            rooms.append(None)\n",
    "    \n",
    "    for prezzo in df['Prezzo']:\n",
    "        price.append(prezzo.replace(\"Affitto \", \"\").replace(\"€ \", \"\").replace(\" al mese\", \"\").replace(\".\",\"\"))\n",
    "        \n",
    "    for contratto in df['Contratto']:\n",
    "        contract.append(contratto.replace(\"\\n \",\"\"))\n",
    "    \n",
    "    for piano in df['Piano']:\n",
    "        try:\n",
    "            floor.append(piano.split(' ')[0])\n",
    "        except:\n",
    "            floor.append(None)\n",
    "    \n",
    "    for tipologia in df['Tipo proprietà']:\n",
    "        try:\n",
    "            cazzo.append(tipologia.split(',')[0])\n",
    "        except:\n",
    "            cazzo.append(None)\n",
    "            \n",
    "    for condo in df['Spese condominio']:\n",
    "        try:\n",
    "            if \"mese\" in condo:\n",
    "                condominio.append(condo.replace(\"€ \",\"\").replace(\"/mese\",\"\"))\n",
    "            else:\n",
    "                condominio.append(None)\n",
    "        except:\n",
    "            condominio.append(None)\n",
    "        \n",
    "    for ii in df['Spese riscaldamento']:\n",
    "        try:\n",
    "            if \"anno\" in ii:\n",
    "                mese = int(int(ii.replace(\"€ \",\"\").replace(\"/anno\",\"\").replace(\".\",\"\"))/12)\n",
    "                heating.append(mese)\n",
    "            else:\n",
    "                heating.append(None)\n",
    "        except:\n",
    "            heating.append(None)\n",
    "    \n",
    "    for anno_costruzione in df['Anno di costruzione']:\n",
    "        try:\n",
    "            built_in.append(anno_costruzione)\n",
    "        except:\n",
    "            built_in.append(None)\n",
    "    \n",
    "    for stato in df['Stato']:\n",
    "        try:\n",
    "            stat = stato.replace(\" \",\"\").lower()\n",
    "            state.append(stat)\n",
    "        except:\n",
    "            state.append(None)\n",
    "    \n",
    "    for tipo_riscaldamento in df['Riscaldamento']:\n",
    "        try:\n",
    "            riscaldamento.append(tipo_riscaldamento.lower().split(',')[0])\n",
    "        except:\n",
    "            riscaldamento.append(None)\n",
    "    \n",
    "    for clima in df['Climatizzatore']:\n",
    "        try:\n",
    "            cooling.append(clima.lower().split(',')[0])\n",
    "        except:\n",
    "            cooling.append('None')\n",
    "    \n",
    "    for classe in df['Classe energetica']:\n",
    "        try:\n",
    "            energy_class.append(classe.replace(\"\\n \",\"\"))\n",
    "        except:\n",
    "            energy_class.append(None)\n",
    "    \n",
    "    final_df = pd.DataFrame(columns=['Contratto', 'Zona', 'Tipologia', 'Superficie', 'Locali', 'Piano', 'Tipo proprietà', 'Prezzo', 'Spese condominio', 'Spese riscaldamento','Anno di costruzione', 'Stato', 'Riscaldamento', 'Climatizzatore', 'Classe energetica'])\n",
    "    final_df['Contratto'] = contract\n",
    "    final_df['Tipologia'] = tipologia\n",
    "    final_df['Superficie'] = surface\n",
    "    final_df['Locali'] = rooms\n",
    "    final_df['Piano'] = floor\n",
    "    final_df['Tipo proprietà'] = cazzo\n",
    "    final_df['Prezzo'] = price\n",
    "    final_df['Spese condominio'] = condominio\n",
    "    final_df['Spese riscaldamento'] = heating\n",
    "    final_df['Anno di costruzione'] = built_in\n",
    "    final_df['Stato'] = state\n",
    "    final_df['Riscaldamento'] = riscaldamento\n",
    "    final_df['Climatizzatore'] = cooling\n",
    "    final_df['Classe energetica'] = energy_class\n",
    "    final_df['Zona'] = df['Zona']\n",
    "    \n",
    "    return final_df"
   ]
  },
  {
   "cell_type": "code",
   "execution_count": 95,
   "metadata": {},
   "outputs": [],
   "source": [
    "final = cleanup(dataset)"
   ]
  },
  {
   "cell_type": "code",
   "execution_count": 96,
   "metadata": {},
   "outputs": [],
   "source": [
    "final.to_csv('dataset_allenamento.csv', sep=\";\")"
   ]
  },
  {
   "cell_type": "code",
   "execution_count": null,
   "metadata": {},
   "outputs": [],
   "source": []
  }
 ],
 "metadata": {
  "kernelspec": {
   "display_name": "Python 3",
   "language": "python",
   "name": "python3"
  },
  "language_info": {
   "codemirror_mode": {
    "name": "ipython",
    "version": 3
   },
   "file_extension": ".py",
   "mimetype": "text/x-python",
   "name": "python",
   "nbconvert_exporter": "python",
   "pygments_lexer": "ipython3",
   "version": "3.7.5"
  }
 },
 "nbformat": 4,
 "nbformat_minor": 4
}
