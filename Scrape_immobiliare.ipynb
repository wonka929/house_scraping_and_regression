{
 "cells": [
  {
   "cell_type": "code",
   "execution_count": 1,
   "metadata": {},
   "outputs": [],
   "source": [
    "import requests\n",
    "from bs4 import BeautifulSoup\n",
    "import pandas as pd\n",
    "from tqdm import tqdm_notebook as tqdm\n",
    "import csv"
   ]
  },
  {
   "cell_type": "code",
   "execution_count": 2,
   "metadata": {},
   "outputs": [],
   "source": [
    "def get_pages(main):\n",
    "    try:\n",
    "        soup = connect(main)\n",
    "        n_pages = [_.get_text(strip=True) for _ in soup.find('ul', {'class': 'pagination pagination__number'}).find_all('li')]\n",
    "        #max = soup.find_all(\"span\", class_=\"pagination__number\")\n",
    "        last_page = int(n_pages[-1])\n",
    "        pages = [main]\n",
    "        \n",
    "        for n in range(2,last_page+1):    \n",
    "            page_num = \"/?pag={}\".format(n)\n",
    "            pages.append(main + page_num)\n",
    "    except:\n",
    "        pages = [main]\n",
    "        \n",
    "    return pages\n",
    "\n",
    "def connect(web_addr):\n",
    "    resp = requests.get(web_addr)\n",
    "    return BeautifulSoup(resp.content, \"html.parser\")\n",
    "    \n",
    "\n",
    "def get_areas(website):\n",
    "    data = connect(website)\n",
    "    areas = []\n",
    "    for ultag in data.find_all('ul', {'class': 'breadcrumb-list breadcrumb-list_list thebigonelist--mouse'}):\n",
    "        for litag in ultag.find_all('li'):\n",
    "            for i in range(len(litag.text.split(','))):\n",
    "                areas.append(litag.text.split(',')[i])\n",
    "    areas = [x.strip() for x in areas]\n",
    "    urls = []\n",
    "    \n",
    "    for area in areas:\n",
    "        url = website + '/' + area.replace(' ','-').lower()\n",
    "        urls.append(url)\n",
    "    \n",
    "    return urls\n",
    "\n",
    "def get_apartment_links(website):\n",
    "    data = connect(website)\n",
    "    links = []\n",
    "    for link in data.find_all('ul', {'class': 'annunci-list'}):\n",
    "        for litag in link.find_all('li'):\n",
    "            try:\n",
    "                #return litag.a.get('href')\n",
    "                links.append(litag.a.get('href'))\n",
    "            except:\n",
    "                continue\n",
    "    return links\n",
    "\n",
    "def scrape_link(website):\n",
    "    data = connect(website)\n",
    "    nomi = []\n",
    "    valori = []\n",
    "    for link in data.find_all('dd', {'class': 'col-xs-12'}):\n",
    "        try:\n",
    "            valore_affitto = link.find(\"span\")\n",
    "            if valore_affitto.string != None:\n",
    "                valori.append(valore_affitto.string)\n",
    "        except:\n",
    "            pass\n",
    "        \n",
    "        if link.string == None:\n",
    "            pass\n",
    "        else:\n",
    "            valori.append(link.string)\n",
    "    \n",
    "        \n",
    "    for link in data.find_all('dt'):\n",
    "        if link.string == None:\n",
    "            pass\n",
    "        else:\n",
    "            nomi.append(link.string)\n",
    "    \n",
    "    valori = remove_duplicates(valori)\n",
    "    nomi = remove_duplicates(nomi)\n",
    "    \n",
    "    while len(valori)<len(nomi):\n",
    "        valori.append(0)\n",
    "        \n",
    "    while len(nomi)<len(valori):\n",
    "        nomi.append('Prestazione energetica del fabbricato')\n",
    "    \n",
    "    count = 0\n",
    "    nomi.append('Arredato S/N')\n",
    "    for elem in data.find_all('span', {'class': 'label label-gray'}):\n",
    "        if elem.string == \"Arredato\" or elem.string == \"Non arredato\" or elem.string == \"Parzialmente arredato\":\n",
    "            valori.append(elem.string)\n",
    "            count = 1            \n",
    "        else:\n",
    "            continue\n",
    "    if count == 0:\n",
    "        valori.append('0')\n",
    "    \n",
    "    return nomi, valori\n",
    "\n",
    "def remove_duplicates(x):\n",
    "    return list(dict.fromkeys(x))\n"
   ]
  },
  {
   "cell_type": "code",
   "execution_count": 3,
   "metadata": {},
   "outputs": [
    {
     "name": "stdout",
     "output_type": "stream",
     "text": [
      "Those are district's links \n",
      "\n",
      "['https://www.immobiliare.it/affitto-case/torino/aurora', 'https://www.immobiliare.it/affitto-case/torino/barriera-di-milano', 'https://www.immobiliare.it/affitto-case/torino/rebaudengo', 'https://www.immobiliare.it/affitto-case/torino/barriera-di-lanzo', 'https://www.immobiliare.it/affitto-case/torino/falchera', 'https://www.immobiliare.it/affitto-case/torino/barca', 'https://www.immobiliare.it/affitto-case/torino/bertolla', 'https://www.immobiliare.it/affitto-case/torino/borgo-san-paolo', 'https://www.immobiliare.it/affitto-case/torino/cenisia', 'https://www.immobiliare.it/affitto-case/torino/borgo-vittoria', 'https://www.immobiliare.it/affitto-case/torino/parco-dora', 'https://www.immobiliare.it/affitto-case/torino/campidoglio', 'https://www.immobiliare.it/affitto-case/torino/san-donato', 'https://www.immobiliare.it/affitto-case/torino/cit-turin', 'https://www.immobiliare.it/affitto-case/torino/cavoretto', 'https://www.immobiliare.it/affitto-case/torino/gran-madre', 'https://www.immobiliare.it/affitto-case/torino/centro', 'https://www.immobiliare.it/affitto-case/torino/colle-della-maddalena', 'https://www.immobiliare.it/affitto-case/torino/superga', 'https://www.immobiliare.it/affitto-case/torino/crocetta', 'https://www.immobiliare.it/affitto-case/torino/san-secondo', 'https://www.immobiliare.it/affitto-case/torino/le-vallette', 'https://www.immobiliare.it/affitto-case/torino/lucento', 'https://www.immobiliare.it/affitto-case/torino/madonna-di-campagna', 'https://www.immobiliare.it/affitto-case/torino/lingotto', 'https://www.immobiliare.it/affitto-case/torino/nizza-millefonti', 'https://www.immobiliare.it/affitto-case/torino/madonna-del-pilone', 'https://www.immobiliare.it/affitto-case/torino/sassi', 'https://www.immobiliare.it/affitto-case/torino/mirafiori-sud', 'https://www.immobiliare.it/affitto-case/torino/pozzo-strada', 'https://www.immobiliare.it/affitto-case/torino/parella', 'https://www.immobiliare.it/affitto-case/torino/regio-parco', 'https://www.immobiliare.it/affitto-case/torino/vanchiglia', 'https://www.immobiliare.it/affitto-case/torino/vanchiglietta', 'https://www.immobiliare.it/affitto-case/torino/san-salvario', 'https://www.immobiliare.it/affitto-case/torino/santa-rita', 'https://www.immobiliare.it/affitto-case/torino/mirafiori-nord']\n"
     ]
    }
   ],
   "source": [
    "## Link for city main website\n",
    "## get areas inside the city (districts)\n",
    "\n",
    "website = \"https://www.immobiliare.it/affitto-case/torino\"\n",
    "districts = get_areas(website)\n",
    "print(\"Those are district's links \\n\")\n",
    "print(districts)"
   ]
  },
  {
   "cell_type": "markdown",
   "metadata": {},
   "source": [
    "## Scrape cycle initialization"
   ]
  },
  {
   "cell_type": "code",
   "execution_count": 4,
   "metadata": {},
   "outputs": [
    {
     "name": "stderr",
     "output_type": "stream",
     "text": [
      "C:\\Users\\Francesco Manghi\\Anaconda3\\lib\\site-packages\\ipykernel_launcher.py:4: TqdmDeprecationWarning: This function will be removed in tqdm==5.0.0\n",
      "Please use `tqdm.notebook.tqdm` instead of `tqdm.tqdm_notebook`\n",
      "  after removing the cwd from sys.path.\n"
     ]
    },
    {
     "data": {
      "application/vnd.jupyter.widget-view+json": {
       "model_id": "7c8784e8eeb74a5584625763256bc834",
       "version_major": 2,
       "version_minor": 0
      },
      "text/plain": [
       "HBox(children=(IntProgress(value=0, max=37), HTML(value='')))"
      ]
     },
     "metadata": {},
     "output_type": "display_data"
    },
    {
     "name": "stdout",
     "output_type": "stream",
     "text": [
      "\n"
     ]
    }
   ],
   "source": [
    "indirizzo = []\n",
    "location = []\n",
    "\n",
    "for url in tqdm(districts):\n",
    "    pages = get_pages(url)\n",
    "    for page in pages:\n",
    "        add = get_apartment_links(page)\n",
    "        indirizzo.append(add)\n",
    "        for num in range(0,len(add)):\n",
    "            location.append(url.rsplit('/', 1)[-1])\n",
    "        \n",
    "announces_links = [item for valore in indirizzo for item in valore]"
   ]
  },
  {
   "cell_type": "code",
   "execution_count": 5,
   "metadata": {},
   "outputs": [
    {
     "name": "stdout",
     "output_type": "stream",
     "text": [
      "The numerosity of announces:\n",
      "\n",
      "2448\n"
     ]
    }
   ],
   "source": [
    "## Check that what you scraped has a meaning...and save it\n",
    "\n",
    "print(\"The numerosity of announces:\\n\")\n",
    "print(len(announces_links))\n",
    "with open('announces_list.csv', 'w') as myfile:\n",
    "    wr = csv.writer(myfile)\n",
    "    wr.writerow(announces_links)"
   ]
  },
  {
   "cell_type": "markdown",
   "metadata": {},
   "source": [
    "## Proper dataset creation by scraping every announce"
   ]
  },
  {
   "cell_type": "code",
   "execution_count": 6,
   "metadata": {},
   "outputs": [
    {
     "name": "stderr",
     "output_type": "stream",
     "text": [
      "C:\\Users\\Francesco Manghi\\Anaconda3\\lib\\site-packages\\ipykernel_launcher.py:9: TqdmDeprecationWarning: This function will be removed in tqdm==5.0.0\n",
      "Please use `tqdm.notebook.tqdm` instead of `tqdm.tqdm_notebook`\n",
      "  if __name__ == '__main__':\n"
     ]
    },
    {
     "data": {
      "application/vnd.jupyter.widget-view+json": {
       "model_id": "16b95424f5814a4ab86543cceb857458",
       "version_major": 2,
       "version_minor": 0
      },
      "text/plain": [
       "HBox(children=(IntProgress(value=0, max=2448), HTML(value='')))"
      ]
     },
     "metadata": {},
     "output_type": "display_data"
    },
    {
     "name": "stdout",
     "output_type": "stream",
     "text": [
      "Plan shapes are not aligned\n",
      "[34]\n",
      "Plan shapes are not aligned\n",
      "[34, 88]\n",
      "Plan shapes are not aligned\n",
      "[34, 88, 105]\n",
      "Plan shapes are not aligned\n",
      "[34, 88, 105, 356]\n",
      "Plan shapes are not aligned\n",
      "[34, 88, 105, 356, 370]\n",
      "Plan shapes are not aligned\n",
      "[34, 88, 105, 356, 370, 396]\n",
      "Plan shapes are not aligned\n",
      "[34, 88, 105, 356, 370, 396, 553]\n",
      "Plan shapes are not aligned\n",
      "[34, 88, 105, 356, 370, 396, 553, 621]\n",
      "Plan shapes are not aligned\n",
      "[34, 88, 105, 356, 370, 396, 553, 621, 654]\n",
      "Plan shapes are not aligned\n",
      "[34, 88, 105, 356, 370, 396, 553, 621, 654, 714]\n",
      "Plan shapes are not aligned\n",
      "[34, 88, 105, 356, 370, 396, 553, 621, 654, 714, 793]\n",
      "Plan shapes are not aligned\n",
      "[34, 88, 105, 356, 370, 396, 553, 621, 654, 714, 793, 825]\n",
      "Plan shapes are not aligned\n",
      "[34, 88, 105, 356, 370, 396, 553, 621, 654, 714, 793, 825, 889]\n",
      "Plan shapes are not aligned\n",
      "[34, 88, 105, 356, 370, 396, 553, 621, 654, 714, 793, 825, 889, 924]\n",
      "Plan shapes are not aligned\n",
      "[34, 88, 105, 356, 370, 396, 553, 621, 654, 714, 793, 825, 889, 924, 952]\n",
      "Plan shapes are not aligned\n",
      "[34, 88, 105, 356, 370, 396, 553, 621, 654, 714, 793, 825, 889, 924, 952, 974]\n",
      "Plan shapes are not aligned\n",
      "[34, 88, 105, 356, 370, 396, 553, 621, 654, 714, 793, 825, 889, 924, 952, 974, 1210]\n",
      "Plan shapes are not aligned\n",
      "[34, 88, 105, 356, 370, 396, 553, 621, 654, 714, 793, 825, 889, 924, 952, 974, 1210, 1234]\n",
      "Plan shapes are not aligned\n",
      "[34, 88, 105, 356, 370, 396, 553, 621, 654, 714, 793, 825, 889, 924, 952, 974, 1210, 1234, 1240]\n",
      "Plan shapes are not aligned\n",
      "[34, 88, 105, 356, 370, 396, 553, 621, 654, 714, 793, 825, 889, 924, 952, 974, 1210, 1234, 1240, 1241]\n",
      "Plan shapes are not aligned\n",
      "[34, 88, 105, 356, 370, 396, 553, 621, 654, 714, 793, 825, 889, 924, 952, 974, 1210, 1234, 1240, 1241, 1317]\n",
      "Plan shapes are not aligned\n",
      "[34, 88, 105, 356, 370, 396, 553, 621, 654, 714, 793, 825, 889, 924, 952, 974, 1210, 1234, 1240, 1241, 1317, 1318]\n",
      "Plan shapes are not aligned\n",
      "[34, 88, 105, 356, 370, 396, 553, 621, 654, 714, 793, 825, 889, 924, 952, 974, 1210, 1234, 1240, 1241, 1317, 1318, 1348]\n",
      "Plan shapes are not aligned\n",
      "[34, 88, 105, 356, 370, 396, 553, 621, 654, 714, 793, 825, 889, 924, 952, 974, 1210, 1234, 1240, 1241, 1317, 1318, 1348, 1449]\n",
      "Plan shapes are not aligned\n",
      "[34, 88, 105, 356, 370, 396, 553, 621, 654, 714, 793, 825, 889, 924, 952, 974, 1210, 1234, 1240, 1241, 1317, 1318, 1348, 1449, 1501]\n",
      "Plan shapes are not aligned\n",
      "[34, 88, 105, 356, 370, 396, 553, 621, 654, 714, 793, 825, 889, 924, 952, 974, 1210, 1234, 1240, 1241, 1317, 1318, 1348, 1449, 1501, 1502]\n",
      "Plan shapes are not aligned\n",
      "[34, 88, 105, 356, 370, 396, 553, 621, 654, 714, 793, 825, 889, 924, 952, 974, 1210, 1234, 1240, 1241, 1317, 1318, 1348, 1449, 1501, 1502, 1540]\n",
      "Plan shapes are not aligned\n",
      "[34, 88, 105, 356, 370, 396, 553, 621, 654, 714, 793, 825, 889, 924, 952, 974, 1210, 1234, 1240, 1241, 1317, 1318, 1348, 1449, 1501, 1502, 1540, 1584]\n",
      "Plan shapes are not aligned\n",
      "[34, 88, 105, 356, 370, 396, 553, 621, 654, 714, 793, 825, 889, 924, 952, 974, 1210, 1234, 1240, 1241, 1317, 1318, 1348, 1449, 1501, 1502, 1540, 1584, 1649]\n",
      "Plan shapes are not aligned\n",
      "[34, 88, 105, 356, 370, 396, 553, 621, 654, 714, 793, 825, 889, 924, 952, 974, 1210, 1234, 1240, 1241, 1317, 1318, 1348, 1449, 1501, 1502, 1540, 1584, 1649, 1692]\n",
      "Plan shapes are not aligned\n",
      "[34, 88, 105, 356, 370, 396, 553, 621, 654, 714, 793, 825, 889, 924, 952, 974, 1210, 1234, 1240, 1241, 1317, 1318, 1348, 1449, 1501, 1502, 1540, 1584, 1649, 1692, 1731]\n",
      "Plan shapes are not aligned\n",
      "[34, 88, 105, 356, 370, 396, 553, 621, 654, 714, 793, 825, 889, 924, 952, 974, 1210, 1234, 1240, 1241, 1317, 1318, 1348, 1449, 1501, 1502, 1540, 1584, 1649, 1692, 1731, 1815]\n",
      "Plan shapes are not aligned\n",
      "[34, 88, 105, 356, 370, 396, 553, 621, 654, 714, 793, 825, 889, 924, 952, 974, 1210, 1234, 1240, 1241, 1317, 1318, 1348, 1449, 1501, 1502, 1540, 1584, 1649, 1692, 1731, 1815, 1831]\n",
      "Plan shapes are not aligned\n",
      "[34, 88, 105, 356, 370, 396, 553, 621, 654, 714, 793, 825, 889, 924, 952, 974, 1210, 1234, 1240, 1241, 1317, 1318, 1348, 1449, 1501, 1502, 1540, 1584, 1649, 1692, 1731, 1815, 1831, 1836]\n",
      "Plan shapes are not aligned\n",
      "[34, 88, 105, 356, 370, 396, 553, 621, 654, 714, 793, 825, 889, 924, 952, 974, 1210, 1234, 1240, 1241, 1317, 1318, 1348, 1449, 1501, 1502, 1540, 1584, 1649, 1692, 1731, 1815, 1831, 1836, 1853]\n",
      "Plan shapes are not aligned\n",
      "[34, 88, 105, 356, 370, 396, 553, 621, 654, 714, 793, 825, 889, 924, 952, 974, 1210, 1234, 1240, 1241, 1317, 1318, 1348, 1449, 1501, 1502, 1540, 1584, 1649, 1692, 1731, 1815, 1831, 1836, 1853, 1910]\n",
      "Plan shapes are not aligned\n",
      "[34, 88, 105, 356, 370, 396, 553, 621, 654, 714, 793, 825, 889, 924, 952, 974, 1210, 1234, 1240, 1241, 1317, 1318, 1348, 1449, 1501, 1502, 1540, 1584, 1649, 1692, 1731, 1815, 1831, 1836, 1853, 1910, 1963]\n",
      "Plan shapes are not aligned\n",
      "[34, 88, 105, 356, 370, 396, 553, 621, 654, 714, 793, 825, 889, 924, 952, 974, 1210, 1234, 1240, 1241, 1317, 1318, 1348, 1449, 1501, 1502, 1540, 1584, 1649, 1692, 1731, 1815, 1831, 1836, 1853, 1910, 1963, 2318]\n",
      "Plan shapes are not aligned\n",
      "[34, 88, 105, 356, 370, 396, 553, 621, 654, 714, 793, 825, 889, 924, 952, 974, 1210, 1234, 1240, 1241, 1317, 1318, 1348, 1449, 1501, 1502, 1540, 1584, 1649, 1692, 1731, 1815, 1831, 1836, 1853, 1910, 1963, 2318, 2341]\n",
      "Plan shapes are not aligned\n",
      "[34, 88, 105, 356, 370, 396, 553, 621, 654, 714, 793, 825, 889, 924, 952, 974, 1210, 1234, 1240, 1241, 1317, 1318, 1348, 1449, 1501, 1502, 1540, 1584, 1649, 1692, 1731, 1815, 1831, 1836, 1853, 1910, 1963, 2318, 2341, 2355]\n",
      "Plan shapes are not aligned\n",
      "[34, 88, 105, 356, 370, 396, 553, 621, 654, 714, 793, 825, 889, 924, 952, 974, 1210, 1234, 1240, 1241, 1317, 1318, 1348, 1449, 1501, 1502, 1540, 1584, 1649, 1692, 1731, 1815, 1831, 1836, 1853, 1910, 1963, 2318, 2341, 2355, 2361]\n",
      "Plan shapes are not aligned\n",
      "[34, 88, 105, 356, 370, 396, 553, 621, 654, 714, 793, 825, 889, 924, 952, 974, 1210, 1234, 1240, 1241, 1317, 1318, 1348, 1449, 1501, 1502, 1540, 1584, 1649, 1692, 1731, 1815, 1831, 1836, 1853, 1910, 1963, 2318, 2341, 2355, 2361, 2367]\n",
      "Plan shapes are not aligned\n",
      "[34, 88, 105, 356, 370, 396, 553, 621, 654, 714, 793, 825, 889, 924, 952, 974, 1210, 1234, 1240, 1241, 1317, 1318, 1348, 1449, 1501, 1502, 1540, 1584, 1649, 1692, 1731, 1815, 1831, 1836, 1853, 1910, 1963, 2318, 2341, 2355, 2361, 2367, 2426]\n",
      "\n"
     ]
    }
   ],
   "source": [
    "## DATAFRAME ORIZZONTALE__USARE\n",
    "\n",
    "variabili = ['Riferimento e Data annuncio', 'Contratto', 'Tipologia', 'Superficie', 'Locali', 'Piano', 'Disponibilità', 'Tipo proprietà', 'Prezzo', 'Spese condominio', 'Spese riscaldamento', 'Informazioni catastali', 'Anno di costruzione', 'Stato', 'Riscaldamento', 'Climatizzatore', 'Classe energetica', 'Prestazione energetica del fabbricato', 'Arredato S/N']\n",
    "df_scrape = pd.DataFrame(columns=variabili)\n",
    "#df_scrape.set_index(0, inplace=True, drop=True)\n",
    "#print(df_scrape)\n",
    "to_be_dropped = []\n",
    "counter = 0\n",
    "for link in tqdm(list(announces_links)):\n",
    "    #print(link)\n",
    "    counter=counter+1\n",
    "    try:\n",
    "        nomi, valori = scrape_link(link)\n",
    "        df_temporaneo = pd.DataFrame(columns=nomi)\n",
    "        #df_temporaneo['Nomi'] = nomi\n",
    "        #df_temporaneo.set_index('Nomi',inplace=True,drop=True)\n",
    "        #print(len(nomi),len(valori))\n",
    "        #while len(valori)<len(nomi):\n",
    "        #    valori.append(0)\n",
    "        #print(len(valori[0:len(nomi)]))\n",
    "        df_temporaneo.loc[len(df_temporaneo), :] = valori[0:len(nomi)]\n",
    "        #print(df_temporaneo)\n",
    "        df_scrape = df_scrape.append(df_temporaneo, sort=False)\n",
    "    except Exception as e:\n",
    "        print(e)\n",
    "        to_be_dropped.append(counter)\n",
    "        print(to_be_dropped)\n",
    "        continue"
   ]
  },
  {
   "cell_type": "code",
   "execution_count": 7,
   "metadata": {},
   "outputs": [],
   "source": [
    "#for item in to_be_dropped:\n",
    "pd.DataFrame(location).to_csv('location.csv', sep=';')\n",
    "pd.DataFrame(to_be_dropped).to_csv('to_be_dropped.csv', sep=';')"
   ]
  },
  {
   "cell_type": "code",
   "execution_count": 8,
   "metadata": {},
   "outputs": [],
   "source": [
    "to_be_dropped.sort(reverse=True)"
   ]
  },
  {
   "cell_type": "code",
   "execution_count": 9,
   "metadata": {},
   "outputs": [
    {
     "data": {
      "text/plain": [
       "[2426,\n",
       " 2367,\n",
       " 2361,\n",
       " 2355,\n",
       " 2341,\n",
       " 2318,\n",
       " 1963,\n",
       " 1910,\n",
       " 1853,\n",
       " 1836,\n",
       " 1831,\n",
       " 1815,\n",
       " 1731,\n",
       " 1692,\n",
       " 1649,\n",
       " 1584,\n",
       " 1540,\n",
       " 1502,\n",
       " 1501,\n",
       " 1449,\n",
       " 1348,\n",
       " 1318,\n",
       " 1317,\n",
       " 1241,\n",
       " 1240,\n",
       " 1234,\n",
       " 1210,\n",
       " 974,\n",
       " 952,\n",
       " 924,\n",
       " 889,\n",
       " 825,\n",
       " 793,\n",
       " 714,\n",
       " 654,\n",
       " 621,\n",
       " 553,\n",
       " 396,\n",
       " 370,\n",
       " 356,\n",
       " 105,\n",
       " 88,\n",
       " 34]"
      ]
     },
     "execution_count": 9,
     "metadata": {},
     "output_type": "execute_result"
    }
   ],
   "source": [
    "to_be_dropped"
   ]
  },
  {
   "cell_type": "code",
   "execution_count": 10,
   "metadata": {},
   "outputs": [],
   "source": [
    "for index in to_be_dropped:\n",
    "    del location[index-1]"
   ]
  },
  {
   "cell_type": "code",
   "execution_count": 11,
   "metadata": {},
   "outputs": [],
   "source": [
    "for index in to_be_dropped:\n",
    "    del announces_links[index-1]"
   ]
  },
  {
   "cell_type": "code",
   "execution_count": 12,
   "metadata": {},
   "outputs": [
    {
     "data": {
      "text/plain": [
       "2405"
      ]
     },
     "execution_count": 12,
     "metadata": {},
     "output_type": "execute_result"
    }
   ],
   "source": [
    "len(location)"
   ]
  },
  {
   "cell_type": "code",
   "execution_count": 13,
   "metadata": {},
   "outputs": [
    {
     "name": "stdout",
     "output_type": "stream",
     "text": [
      "(2405, 24)\n"
     ]
    }
   ],
   "source": [
    "print(df_scrape.shape)\n",
    "df_scrape['Zona'] = location\n",
    "df_scrape.to_csv('dataset.csv', sep=\";\")"
   ]
  },
  {
   "cell_type": "code",
   "execution_count": 14,
   "metadata": {},
   "outputs": [],
   "source": [
    "df_scrape = df_scrape[['Contratto', 'Zona', 'Tipologia', 'Superficie', 'Locali', 'Piano', 'Tipo proprietà', 'Prezzo', 'Spese condominio', 'Spese riscaldamento','Anno di costruzione', 'Stato', 'Riscaldamento', 'Climatizzatore', 'Classe energetica', 'Arredato S/N']]"
   ]
  },
  {
   "cell_type": "code",
   "execution_count": 23,
   "metadata": {},
   "outputs": [],
   "source": [
    "def cleanup(df):\n",
    "    price = []\n",
    "    rooms = []\n",
    "    surface = []\n",
    "    bathrooms = []\n",
    "    floor = []\n",
    "    contract = []\n",
    "    tipo = []\n",
    "    condominio = []\n",
    "    heating = []\n",
    "    built_in = []\n",
    "    state = []\n",
    "    riscaldamento = []\n",
    "    cooling = []\n",
    "    energy_class = []\n",
    "    tipologia = []\n",
    "    pr_type = []\n",
    "    arredato = []\n",
    "    \n",
    "    for tipo in df['Tipologia']:\n",
    "        try:\n",
    "            tipologia.append(tipo)\n",
    "        except:\n",
    "            tipologia.append(None)\n",
    "    \n",
    "    for superficie in df['Superficie']:\n",
    "        try:\n",
    "            if \"m\" in superficie:\n",
    "                s = superficie.replace(\" m²\", \"\")\n",
    "                surface.append(s)\n",
    "        except:\n",
    "            surface.append(None)\n",
    "    \n",
    "    for locali in df['Locali']:\n",
    "        try:\n",
    "            rooms.append(locali[0:1])\n",
    "        except:\n",
    "            rooms.append(None)\n",
    "    \n",
    "    for prezzo in df['Prezzo']:\n",
    "        try:\n",
    "            price.append(prezzo.replace(\"Affitto \", \"\").replace(\"€ \", \"\").replace(\" al mese\", \"\").replace(\".\",\"\"))\n",
    "        except:\n",
    "            price.append(None)\n",
    "            \n",
    "    for contratto in df['Contratto']:\n",
    "        try:\n",
    "            contract.append(contratto.replace(\"\\n \",\"\"))\n",
    "        except:\n",
    "            contract.append(None)\n",
    "    \n",
    "    for piano in df['Piano']:\n",
    "        try:\n",
    "            floor.append(piano.split(' ')[0])\n",
    "        except:\n",
    "            floor.append(None)\n",
    "    \n",
    "    for tipologia in df['Tipo proprietà']:\n",
    "        try:\n",
    "            pr_type.append(tipologia.split(',')[0])\n",
    "        except:\n",
    "            pr_type.append(None)\n",
    "            \n",
    "    for condo in df['Spese condominio']:\n",
    "        try:\n",
    "            if \"mese\" in condo:\n",
    "                condominio.append(condo.replace(\"€ \",\"\").replace(\"/mese\",\"\"))\n",
    "            else:\n",
    "                condominio.append(None)\n",
    "        except:\n",
    "            condominio.append(None)\n",
    "        \n",
    "    for ii in df['Spese riscaldamento']:\n",
    "        try:\n",
    "            if \"anno\" in ii:\n",
    "                mese = int(int(ii.replace(\"€ \",\"\").replace(\"/anno\",\"\").replace(\".\",\"\"))/12)\n",
    "                heating.append(mese)\n",
    "            else:\n",
    "                heating.append(None)\n",
    "        except:\n",
    "            heating.append(None)\n",
    "    \n",
    "    for anno_costruzione in df['Anno di costruzione']:\n",
    "        try:\n",
    "            built_in.append(anno_costruzione)\n",
    "        except:\n",
    "            built_in.append(None)\n",
    "    \n",
    "    for stato in df['Stato']:\n",
    "        try:\n",
    "            stat = stato.replace(\" \",\"\").lower()\n",
    "            state.append(stat)\n",
    "        except:\n",
    "            state.append(None)\n",
    "    \n",
    "    for tipo_riscaldamento in df['Riscaldamento']:\n",
    "        try:\n",
    "            riscaldamento.append(tipo_riscaldamento.lower().split(',')[0])\n",
    "        except:\n",
    "            riscaldamento.append(None)\n",
    "    \n",
    "    for clima in df['Climatizzatore']:\n",
    "        try:\n",
    "            cooling.append(clima.lower().split(',')[0])\n",
    "        except:\n",
    "            cooling.append('None')\n",
    "    \n",
    "    for classe in df['Classe energetica']:\n",
    "        try:\n",
    "            energy_class.append(classe.replace(\"\\n \",\"\"))\n",
    "        except:\n",
    "            energy_class.append(None)\n",
    "            \n",
    "    for SN in df['Arredato S/N']:\n",
    "        try:\n",
    "            arredato.append(SN)\n",
    "        except:\n",
    "            arredato.append(None)\n",
    "            \n",
    "    \n",
    "    final_df = pd.DataFrame(columns=['Contratto', 'Zona', 'Tipologia', 'Superficie', 'Locali', 'Piano', 'Tipo proprietà', 'Prezzo', 'Spese condominio', 'Spese riscaldamento','Anno di costruzione', 'Stato', 'Riscaldamento', 'Climatizzatore', 'Classe energetica', 'Arredato S/N'])\n",
    "    final_df['Contratto'] = contract\n",
    "    final_df['Tipologia'] = tipologia\n",
    "    final_df['Superficie'] = surface\n",
    "    final_df['Locali'] = rooms\n",
    "    final_df['Piano'] = floor\n",
    "    final_df['Tipo proprietà'] = pr_type\n",
    "    final_df['Prezzo'] = price\n",
    "    final_df['Spese condominio'] = condominio\n",
    "    final_df['Spese riscaldamento'] = heating\n",
    "    final_df['Anno di costruzione'] = built_in\n",
    "    final_df['Stato'] = state\n",
    "    final_df['Riscaldamento'] = riscaldamento\n",
    "    final_df['Climatizzatore'] = cooling\n",
    "    final_df['Classe energetica'] = energy_class\n",
    "    final_df['Zona'] = df['Zona'].values\n",
    "    final_df['Arredato S/N'] = arredato\n",
    "    final_df['Link annuncio'] = announces_links\n",
    "    \n",
    "    return final_df"
   ]
  },
  {
   "cell_type": "code",
   "execution_count": 24,
   "metadata": {},
   "outputs": [],
   "source": [
    "final = cleanup(df_scrape)\n",
    "final.to_csv('dataset_da_allenamento.csv', sep=\";\")"
   ]
  },
  {
   "cell_type": "code",
   "execution_count": null,
   "metadata": {},
   "outputs": [],
   "source": []
  }
 ],
 "metadata": {
  "kernelspec": {
   "display_name": "Python 3",
   "language": "python",
   "name": "python3"
  },
  "language_info": {
   "codemirror_mode": {
    "name": "ipython",
    "version": 3
   },
   "file_extension": ".py",
   "mimetype": "text/x-python",
   "name": "python",
   "nbconvert_exporter": "python",
   "pygments_lexer": "ipython3",
   "version": "3.7.5"
  }
 },
 "nbformat": 4,
 "nbformat_minor": 4
}
