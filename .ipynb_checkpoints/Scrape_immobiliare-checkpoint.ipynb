{
 "cells": [
  {
   "cell_type": "code",
   "execution_count": 1,
   "metadata": {},
   "outputs": [],
   "source": [
    "import requests\n",
    "from bs4 import BeautifulSoup\n",
    "import pandas as pd\n",
    "from tqdm import tqdm_notebook as tqdm\n",
    "import csv\n",
    "from joblib import Parallel, delayed\n",
    "import multiprocessing"
   ]
  },
  {
   "cell_type": "code",
   "execution_count": 8,
   "metadata": {},
   "outputs": [],
   "source": [
    "def get_pages(main):\n",
    "    try:\n",
    "        soup = connect(main)\n",
    "        n_pages = [_.get_text(strip=True) for _ in soup.find('ul', {'class': 'pagination pagination__number'}).find_all('li')]\n",
    "        #max = soup.find_all(\"span\", class_=\"pagination__number\")\n",
    "        last_page = int(n_pages[-1])\n",
    "        pages = [main]\n",
    "        \n",
    "        for n in range(2,last_page+1):    \n",
    "            page_num = \"/?pag={}\".format(n)\n",
    "            pages.append(main + page_num)\n",
    "    except:\n",
    "        pages = [main]\n",
    "        \n",
    "    return pages\n",
    "\n",
    "def connect(web_addr):\n",
    "    resp = requests.get(web_addr)\n",
    "    return BeautifulSoup(resp.content, \"html.parser\")\n",
    "    \n",
    "\n",
    "def get_areas(website):\n",
    "    data = connect(website)\n",
    "    areas = []\n",
    "    for ultag in data.find_all('ul', {'class': 'breadcrumb-list breadcrumb-list_list breadcrumb-list__related'}):\n",
    "        for litag in ultag.find_all('li'):\n",
    "            for i in range(len(litag.text.split(','))):\n",
    "                areas.append(litag.text.split(',')[i])\n",
    "    areas = [x.strip() for x in areas]\n",
    "    urls = []\n",
    "    \n",
    "    for area in areas:\n",
    "        url = website + '/' + area.replace(' ','-').lower()\n",
    "        urls.append(url)\n",
    "    \n",
    "    return areas, urls\n",
    "\n",
    "def get_apartment_links(website):\n",
    "    data = connect(website)\n",
    "    links = []\n",
    "    for link in data.find_all('ul', {'class': 'annunci-list'}):\n",
    "        for litag in link.find_all('li'):\n",
    "            try:\n",
    "                #return litag.a.get('href')\n",
    "                links.append(litag.a.get('href'))\n",
    "            except:\n",
    "                continue\n",
    "    return links\n",
    "\n",
    "def scrape_link(website):\n",
    "    data = connect(website)\n",
    "    nomi = []\n",
    "    valori = []\n",
    "    temp = []\n",
    "    for link in (data.find_all('dd', {'class': 'im-features__value'})[1], data.find_all('dd', {'class': 'im-features__value'})[9], data.find_all('dd', {'class': 'im-features__value'})[12]):\n",
    "        temp.append(link)\n",
    "        try:\n",
    "            temp = str(temp).replace('</dd>', '')\n",
    "            temp = str(temp).replace('<dt', '</dd><dt')\n",
    "            temp = BeautifulSoup(temp, \"html.parser\")\n",
    "            for elem in temp.find_all('dd'):\n",
    "                valori.append(elem.string.strip())\n",
    "        except:\n",
    "            #print('errore')\n",
    "            pass\n",
    "        temp = []\n",
    "\n",
    "    valori[-1] = (data.find_all('dd', {'class': 'im-features__value'})[0].find_all('span')[0].string)\n",
    "\n",
    "    for link in data.find_all('dt'):\n",
    "        if link.string == None:\n",
    "            pass\n",
    "        else:\n",
    "            nomi.append(link.string.strip())\n",
    "\n",
    "    while len(valori)<len(nomi):\n",
    "        valori.append(0)\n",
    "\n",
    "    while len(nomi)<len(valori):\n",
    "        nomi.append('Prestazione energetica del fabbricato')\n",
    "\n",
    "    count = 0\n",
    "    nomi.append('Arredato S/N')\n",
    "    nomi.remove('altre caratteristiche')\n",
    "    for elem in data.find_all('dd', {'class': 'im-features__value'})[8].find_all('span'):\n",
    "        if elem.string.strip() == \"Arredato\" or elem.string == \"Non arredato\" or elem.string == \"Parzialmente arredato\":\n",
    "            valori.append(elem.string.strip())\n",
    "            count = 1            \n",
    "        else:\n",
    "            continue\n",
    "    if count == 0:\n",
    "        valori.append('0')        \n",
    "\n",
    "    valori = remove_duplicates(valori)\n",
    "    nomi = remove_duplicates(nomi)\n",
    "    \n",
    "    return nomi, valori\n",
    "\n",
    "def remove_duplicates(x):\n",
    "    return list(dict.fromkeys(x))\n"
   ]
  },
  {
   "cell_type": "code",
   "execution_count": 9,
   "metadata": {},
   "outputs": [
    {
     "name": "stdout",
     "output_type": "stream",
     "text": [
      "Those are district's links \n",
      "\n",
      "['https://www.immobiliare.it/affitto-case/torino/aurora', 'https://www.immobiliare.it/affitto-case/torino/barriera-di-milano', 'https://www.immobiliare.it/affitto-case/torino/rebaudengo', 'https://www.immobiliare.it/affitto-case/torino/barriera-di-lanzo', 'https://www.immobiliare.it/affitto-case/torino/falchera', 'https://www.immobiliare.it/affitto-case/torino/barca', 'https://www.immobiliare.it/affitto-case/torino/bertolla', 'https://www.immobiliare.it/affitto-case/torino/borgo-san-paolo', 'https://www.immobiliare.it/affitto-case/torino/cenisia', 'https://www.immobiliare.it/affitto-case/torino/borgo-vittoria', 'https://www.immobiliare.it/affitto-case/torino/parco-dora', 'https://www.immobiliare.it/affitto-case/torino/campidoglio', 'https://www.immobiliare.it/affitto-case/torino/san-donato', 'https://www.immobiliare.it/affitto-case/torino/cit-turin', 'https://www.immobiliare.it/affitto-case/torino/cavoretto', 'https://www.immobiliare.it/affitto-case/torino/gran-madre', 'https://www.immobiliare.it/affitto-case/torino/centro', 'https://www.immobiliare.it/affitto-case/torino/colle-della-maddalena', 'https://www.immobiliare.it/affitto-case/torino/superga', 'https://www.immobiliare.it/affitto-case/torino/crocetta', 'https://www.immobiliare.it/affitto-case/torino/san-secondo', 'https://www.immobiliare.it/affitto-case/torino/le-vallette', 'https://www.immobiliare.it/affitto-case/torino/lucento', 'https://www.immobiliare.it/affitto-case/torino/madonna-di-campagna', 'https://www.immobiliare.it/affitto-case/torino/lingotto', 'https://www.immobiliare.it/affitto-case/torino/nizza-millefonti', 'https://www.immobiliare.it/affitto-case/torino/madonna-del-pilone', 'https://www.immobiliare.it/affitto-case/torino/sassi', 'https://www.immobiliare.it/affitto-case/torino/mirafiori-sud', 'https://www.immobiliare.it/affitto-case/torino/pozzo-strada', 'https://www.immobiliare.it/affitto-case/torino/parella', 'https://www.immobiliare.it/affitto-case/torino/regio-parco', 'https://www.immobiliare.it/affitto-case/torino/vanchiglia', 'https://www.immobiliare.it/affitto-case/torino/vanchiglietta', 'https://www.immobiliare.it/affitto-case/torino/san-salvario', 'https://www.immobiliare.it/affitto-case/torino/santa-rita', 'https://www.immobiliare.it/affitto-case/torino/mirafiori-nord']\n"
     ]
    }
   ],
   "source": [
    "## Link for city main website\n",
    "## get areas inside the city (districts)\n",
    "\n",
    "website = \"https://www.immobiliare.it/affitto-case/torino\"\n",
    "areas, districts = get_areas(website)\n",
    "print(\"Those are district's links \\n\")\n",
    "print(districts)"
   ]
  },
  {
   "cell_type": "markdown",
   "metadata": {},
   "source": [
    "## Scrape cycle initialization"
   ]
  },
  {
   "cell_type": "code",
   "execution_count": 11,
   "metadata": {},
   "outputs": [
    {
     "name": "stderr",
     "output_type": "stream",
     "text": [
      "C:\\Users\\Francesco Manghi\\AppData\\Roaming\\Python\\Python37\\site-packages\\ipykernel_launcher.py:4: TqdmDeprecationWarning: This function will be removed in tqdm==5.0.0\n",
      "Please use `tqdm.notebook.tqdm` instead of `tqdm.tqdm_notebook`\n",
      "  after removing the cwd from sys.path.\n"
     ]
    },
    {
     "data": {
      "application/vnd.jupyter.widget-view+json": {
       "model_id": "229490c127704a658e9d77bf2ab1cefa",
       "version_major": 2,
       "version_minor": 0
      },
      "text/plain": [
       "HBox(children=(FloatProgress(value=0.0, max=37.0), HTML(value='')))"
      ]
     },
     "metadata": {},
     "output_type": "display_data"
    },
    {
     "name": "stdout",
     "output_type": "stream",
     "text": [
      "\n"
     ]
    }
   ],
   "source": [
    "indirizzo = []\n",
    "location = []\n",
    "\n",
    "for url in tqdm(districts):\n",
    "    pages = get_pages(url)\n",
    "    for page in pages:\n",
    "        add = get_apartment_links(page)\n",
    "        indirizzo.append(add)\n",
    "        for num in range(0,len(add)):\n",
    "            location.append(url.rsplit('/', 1)[-1])\n",
    "        \n",
    "announces_links = [item for valore in indirizzo for item in valore]"
   ]
  },
  {
   "cell_type": "code",
   "execution_count": 13,
   "metadata": {},
   "outputs": [
    {
     "name": "stdout",
     "output_type": "stream",
     "text": [
      "The numerosity of announces:\n",
      "\n",
      "3481\n"
     ]
    }
   ],
   "source": [
    "## Check that what you scraped has a meaning...and save it\n",
    "\n",
    "print(\"The numerosity of announces:\\n\")\n",
    "print(len(announces_links))\n",
    "with open('announces_list.csv', 'w') as myfile:\n",
    "    wr = csv.writer(myfile)\n",
    "    wr.writerow(announces_links)"
   ]
  },
  {
   "cell_type": "markdown",
   "metadata": {},
   "source": [
    "## Proper dataset creation by scraping every announce"
   ]
  },
  {
   "cell_type": "code",
   "execution_count": 14,
   "metadata": {},
   "outputs": [
    {
     "name": "stderr",
     "output_type": "stream",
     "text": [
      "C:\\Users\\Francesco Manghi\\AppData\\Roaming\\Python\\Python37\\site-packages\\ipykernel_launcher.py:10: TqdmDeprecationWarning: This function will be removed in tqdm==5.0.0\n",
      "Please use `tqdm.notebook.tqdm` instead of `tqdm.tqdm_notebook`\n",
      "  # Remove the CWD from sys.path while we load stuff.\n"
     ]
    },
    {
     "data": {
      "application/vnd.jupyter.widget-view+json": {
       "model_id": "3a3ff870e5df4a9d8675668bc0b2b6fd",
       "version_major": 2,
       "version_minor": 0
      },
      "text/plain": [
       "HBox(children=(FloatProgress(value=0.0, max=10.0), HTML(value='')))"
      ]
     },
     "metadata": {},
     "output_type": "display_data"
    },
    {
     "name": "stdout",
     "output_type": "stream",
     "text": [
      "https://www.immobiliare.it/annunci/80839413/\n",
      "cannot copy sequence with size 11 to array axis with dimension 17\n",
      "[1]\n",
      "https://www.immobiliare.it/annunci/80835421/\n",
      "cannot copy sequence with size 12 to array axis with dimension 14\n",
      "[1, 2]\n",
      "https://www.immobiliare.it/annunci/80828587/\n",
      "cannot copy sequence with size 13 to array axis with dimension 17\n",
      "[1, 2, 3]\n",
      "https://www.immobiliare.it/annunci/80828403/\n",
      "cannot copy sequence with size 13 to array axis with dimension 16\n",
      "[1, 2, 3, 4]\n",
      "https://www.immobiliare.it/annunci/80829815/\n",
      "cannot copy sequence with size 13 to array axis with dimension 16\n",
      "[1, 2, 3, 4, 5]\n",
      "https://www.immobiliare.it/annunci/80826259/\n",
      "cannot copy sequence with size 11 to array axis with dimension 14\n",
      "[1, 2, 3, 4, 5, 6]\n",
      "https://www.immobiliare.it/annunci/80792163/\n",
      "cannot copy sequence with size 13 to array axis with dimension 17\n",
      "[1, 2, 3, 4, 5, 6, 7]\n",
      "https://www.immobiliare.it/annunci/80787725/\n",
      "cannot copy sequence with size 11 to array axis with dimension 17\n",
      "[1, 2, 3, 4, 5, 6, 7, 8]\n",
      "https://www.immobiliare.it/annunci/80786941/\n",
      "cannot copy sequence with size 13 to array axis with dimension 14\n",
      "[1, 2, 3, 4, 5, 6, 7, 8, 9]\n",
      "https://www.immobiliare.it/annunci/80786947/\n",
      "cannot copy sequence with size 13 to array axis with dimension 14\n",
      "[1, 2, 3, 4, 5, 6, 7, 8, 9, 10]\n",
      "\n"
     ]
    }
   ],
   "source": [
    "## DATAFRAME ORIZZONTALE__USARE\n",
    "\n",
    "#variabili = ['Riferimento e Data annuncio', 'Contratto', 'Tipologia', 'Superficie', 'Locali', 'Piano', 'Disponibilità', 'Tipo proprietà', 'Prezzo', 'Spese condominio', 'Spese riscaldamento', 'Informazioni catastali', 'Anno di costruzione', 'Stato', 'Riscaldamento', 'Climatizzatore', 'Classe energetica', 'Prestazione energetica del fabbricato', 'Arredato S/N']\n",
    "#df_scrape = pd.DataFrame(columns=variabili)\n",
    "df_scrape = pd.DataFrame()\n",
    "#df_scrape.set_index(0, inplace=True, drop=True)\n",
    "#print(df_scrape)\n",
    "to_be_dropped = []\n",
    "counter = 0\n",
    "for link in tqdm(list(announces_links[0:10])):\n",
    "    print(link)\n",
    "    counter=counter+1\n",
    "    try:\n",
    "        nomi, valori = scrape_link(link)\n",
    "        df_temporaneo = pd.DataFrame(columns=nomi)\n",
    "        #df_temporaneo['Nomi'] = nomi\n",
    "        #df_temporaneo.set_index('Nomi',inplace=True,drop=True)\n",
    "        #print(len(nomi),len(valori))\n",
    "        #while len(valori)<len(nomi):\n",
    "        #    valori.append(0)\n",
    "        #print(len(valori[0:len(nomi)]))\n",
    "        df_temporaneo.loc[len(df_temporaneo), :] = valori[0:len(nomi)]\n",
    "        #print(df_temporaneo)\n",
    "        df_scrape = df_scrape.append(df_temporaneo, sort=False)\n",
    "    except Exception as e:\n",
    "        print(e)\n",
    "        to_be_dropped.append(counter)\n",
    "        print(to_be_dropped)\n",
    "        continue"
   ]
  },
  {
   "cell_type": "code",
   "execution_count": 7,
   "metadata": {},
   "outputs": [],
   "source": [
    "#for item in to_be_dropped:\n",
    "pd.DataFrame(location).to_csv('location.csv', sep=';')\n",
    "pd.DataFrame(to_be_dropped).to_csv('to_be_dropped.csv', sep=';')"
   ]
  },
  {
   "cell_type": "code",
   "execution_count": 8,
   "metadata": {},
   "outputs": [],
   "source": [
    "to_be_dropped.sort(reverse=True)"
   ]
  },
  {
   "cell_type": "code",
   "execution_count": 9,
   "metadata": {},
   "outputs": [
    {
     "data": {
      "text/plain": [
       "[2816,\n",
       " 2775,\n",
       " 2742,\n",
       " 2728,\n",
       " 2714,\n",
       " 2702,\n",
       " 2660,\n",
       " 2615,\n",
       " 2605,\n",
       " 2228,\n",
       " 2182,\n",
       " 2106,\n",
       " 2100,\n",
       " 1953,\n",
       " 1931,\n",
       " 1839,\n",
       " 1830,\n",
       " 1808,\n",
       " 1771,\n",
       " 1715,\n",
       " 1677,\n",
       " 1570,\n",
       " 1532,\n",
       " 1515,\n",
       " 1487,\n",
       " 1433,\n",
       " 1336,\n",
       " 1280,\n",
       " 1129,\n",
       " 1104,\n",
       " 1081,\n",
       " 1053,\n",
       " 1021,\n",
       " 968,\n",
       " 942,\n",
       " 841,\n",
       " 794,\n",
       " 634,\n",
       " 610,\n",
       " 434,\n",
       " 390,\n",
       " 311,\n",
       " 258,\n",
       " 85]"
      ]
     },
     "execution_count": 9,
     "metadata": {},
     "output_type": "execute_result"
    }
   ],
   "source": [
    "to_be_dropped"
   ]
  },
  {
   "cell_type": "code",
   "execution_count": 10,
   "metadata": {},
   "outputs": [],
   "source": [
    "for index in to_be_dropped:\n",
    "    del location[index-1]"
   ]
  },
  {
   "cell_type": "code",
   "execution_count": 11,
   "metadata": {},
   "outputs": [],
   "source": [
    "for index in to_be_dropped:\n",
    "    del announces_links[index-1]"
   ]
  },
  {
   "cell_type": "code",
   "execution_count": 12,
   "metadata": {},
   "outputs": [
    {
     "data": {
      "text/plain": [
       "2405"
      ]
     },
     "execution_count": 12,
     "metadata": {},
     "output_type": "execute_result"
    }
   ],
   "source": [
    "len(location)"
   ]
  },
  {
   "cell_type": "code",
   "execution_count": 21,
   "metadata": {},
   "outputs": [
    {
     "name": "stdout",
     "output_type": "stream",
     "text": [
      "(2386, 16)\n"
     ]
    }
   ],
   "source": [
    "print(df_scrape.shape)\n",
    "df_scrape['zona'] = location\n",
    "df_scrape.to_csv('dataset.csv', sep=\";\")"
   ]
  },
  {
   "cell_type": "code",
   "execution_count": 29,
   "metadata": {},
   "outputs": [],
   "source": [
    "df_scrape = pd.read_csv('dataset.csv', sep=';')"
   ]
  },
  {
   "cell_type": "code",
   "execution_count": 30,
   "metadata": {},
   "outputs": [
    {
     "data": {
      "text/plain": [
       "Index(['Unnamed: 0', 'riferimento e Data annuncio', 'tipologia', 'superficie',\n",
       "       'locali', 'piano', 'disponibilità', 'Tipo proprietà', 'prezzo',\n",
       "       'spese condominio', 'informazioni catastali', 'anno di costruzione',\n",
       "       'stato', 'riscaldamento', 'Climatizzazione', 'Classe energetica',\n",
       "       'Arredato S/N', 'zona'],\n",
       "      dtype='object')"
      ]
     },
     "execution_count": 30,
     "metadata": {},
     "output_type": "execute_result"
    }
   ],
   "source": [
    "df_scrape.columns"
   ]
  },
  {
   "cell_type": "code",
   "execution_count": 31,
   "metadata": {},
   "outputs": [],
   "source": [
    "df_scrape = df_scrape[['tipologia', 'zona', 'tipologia', 'superficie', 'locali', 'piano', 'Tipo proprietà', 'prezzo', 'spese condominio','anno di costruzione', 'stato', 'riscaldamento', 'Climatizzazione', 'Classe energetica', 'Arredato S/N']]"
   ]
  },
  {
   "cell_type": "code",
   "execution_count": 34,
   "metadata": {},
   "outputs": [],
   "source": [
    "def cleanup(df):\n",
    "    price = []\n",
    "    rooms = []\n",
    "    surface = []\n",
    "    bathrooms = []\n",
    "    floor = []\n",
    "    contract = []\n",
    "    tipo = []\n",
    "    condominio = []\n",
    "    heating = []\n",
    "    built_in = []\n",
    "    state = []\n",
    "    riscaldamento = []\n",
    "    cooling = []\n",
    "    energy_class = []\n",
    "    tipologia = []\n",
    "    pr_type = []\n",
    "    arredato = []\n",
    "    \n",
    "    for tipo in df['tipologia']:\n",
    "        try:\n",
    "            tipologia.append(tipo)\n",
    "        except:\n",
    "            tipologia.append(None)\n",
    "    \n",
    "    for superficie in df['superficie']:\n",
    "        try:\n",
    "            if \"m\" in superficie:\n",
    "                s = superficie.replace(\" m²\", \"\")\n",
    "                surface.append(s)\n",
    "        except:\n",
    "            surface.append(None)\n",
    "    \n",
    "    for locali in df['locali']:\n",
    "        try:\n",
    "            rooms.append(locali[0:1])\n",
    "        except:\n",
    "            rooms.append(None)\n",
    "    \n",
    "    for prezzo in df['prezzo']:\n",
    "        try:\n",
    "            price.append(prezzo.replace(\"Affitto \", \"\").replace(\"€ \", \"\").replace(\" al mese\", \"\").replace(\".\",\"\"))\n",
    "        except:\n",
    "            price.append(None)\n",
    "            \n",
    "    for contratto in df['tipologia']:\n",
    "        try:\n",
    "            contract.append(contratto.replace(\"\\n \",\"\"))\n",
    "        except:\n",
    "            contract.append(None)\n",
    "    \n",
    "    for piano in df['piano']:\n",
    "        try:\n",
    "            floor.append(piano.split(' ')[0])\n",
    "        except:\n",
    "            floor.append(None)\n",
    "    \n",
    "    for tipologia in df['Tipo proprietà']:\n",
    "        try:\n",
    "            pr_type.append(tipologia.split(',')[0])\n",
    "        except:\n",
    "            pr_type.append(None)\n",
    "            \n",
    "    for condo in df['spese condominio']:\n",
    "        try:\n",
    "            if \"mese\" in condo:\n",
    "                condominio.append(condo.replace(\"€ \",\"\").replace(\"/mese\",\"\"))\n",
    "            else:\n",
    "                condominio.append(None)\n",
    "        except:\n",
    "            condominio.append(None)\n",
    "        \n",
    " #   for ii in df['Spese riscaldamento']:\n",
    " #       try:\n",
    " #           if \"anno\" in ii:\n",
    " #               mese = int(int(ii.replace(\"€ \",\"\").replace(\"/anno\",\"\").replace(\".\",\"\"))/12)\n",
    " #               heating.append(mese)\n",
    " #           else:\n",
    " #               heating.append(None)\n",
    " #       except:\n",
    " #           heating.append(None)\n",
    "    \n",
    "    for anno_costruzione in df['anno di costruzione']:\n",
    "        try:\n",
    "            built_in.append(anno_costruzione)\n",
    "        except:\n",
    "            built_in.append(None)\n",
    "    \n",
    "    for stato in df['stato']:\n",
    "        try:\n",
    "            stat = stato.replace(\" \",\"\").lower()\n",
    "            state.append(stat)\n",
    "        except:\n",
    "            state.append(None)\n",
    "    \n",
    "    for tipo_riscaldamento in df['riscaldamento']:\n",
    "        try:\n",
    "            riscaldamento.append(tipo_riscaldamento.lower().split(',')[0])\n",
    "        except:\n",
    "            riscaldamento.append(None)\n",
    "    \n",
    "    for clima in df['Climatizzazione']:\n",
    "        try:\n",
    "            cooling.append(clima.lower().split(',')[0])\n",
    "        except:\n",
    "            cooling.append('None')\n",
    "    \n",
    "    for classe in df['Classe energetica']:\n",
    "        try:\n",
    "            energy_class.append(classe.replace(\"\\n \",\"\"))\n",
    "        except:\n",
    "            energy_class.append(None)\n",
    "            \n",
    "    for SN in df['Arredato S/N']:\n",
    "        try:\n",
    "            arredato.append(SN)\n",
    "        except:\n",
    "            arredato.append(None)\n",
    "            \n",
    "    \n",
    "    final_df = pd.DataFrame(columns=['Contratto', 'Zona', 'Tipologia', 'Superficie', 'Locali', 'Piano', 'Tipo proprietà', 'Prezzo', 'Spese condominio', 'Spese riscaldamento','Anno di costruzione', 'Stato', 'Riscaldamento', 'Climatizzatore', 'Classe energetica', 'Arredato S/N'])\n",
    "    final_df['Contratto'] = contract\n",
    "    final_df['Tipologia'] = tipologia\n",
    "    final_df['Superficie'] = surface\n",
    "    final_df['Locali'] = rooms\n",
    "    final_df['Piano'] = floor\n",
    "    final_df['Tipo proprietà'] = pr_type\n",
    "    final_df['Prezzo'] = price\n",
    "    final_df['Spese condominio'] = condominio\n",
    "    final_df['Spese riscaldamento'] = heating\n",
    "    final_df['Anno di costruzione'] = built_in\n",
    "    final_df['Stato'] = state\n",
    "    final_df['Riscaldamento'] = riscaldamento\n",
    "    final_df['Climatizzatore'] = cooling\n",
    "    final_df['Classe energetica'] = energy_class\n",
    "    final_df['Zona'] = df['Zona'].values\n",
    "    final_df['Arredato S/N'] = arredato\n",
    "    final_df['Link annuncio'] = announces_links\n",
    "    \n",
    "    return final_df"
   ]
  },
  {
   "cell_type": "code",
   "execution_count": 35,
   "metadata": {},
   "outputs": [
    {
     "ename": "ValueError",
     "evalue": "Length of values does not match length of index",
     "output_type": "error",
     "traceback": [
      "\u001b[1;31m---------------------------------------------------------------------------\u001b[0m",
      "\u001b[1;31mValueError\u001b[0m                                Traceback (most recent call last)",
      "\u001b[1;32m<ipython-input-35-6d21231dc2af>\u001b[0m in \u001b[0;36m<module>\u001b[1;34m\u001b[0m\n\u001b[1;32m----> 1\u001b[1;33m \u001b[0mfinal\u001b[0m \u001b[1;33m=\u001b[0m \u001b[0mcleanup\u001b[0m\u001b[1;33m(\u001b[0m\u001b[0mdf_scrape\u001b[0m\u001b[1;33m)\u001b[0m\u001b[1;33m\u001b[0m\u001b[1;33m\u001b[0m\u001b[0m\n\u001b[0m\u001b[0;32m      2\u001b[0m \u001b[0mfinal\u001b[0m\u001b[1;33m.\u001b[0m\u001b[0mto_csv\u001b[0m\u001b[1;33m(\u001b[0m\u001b[1;34m'dataset_da_allenamento.csv'\u001b[0m\u001b[1;33m,\u001b[0m \u001b[0msep\u001b[0m\u001b[1;33m=\u001b[0m\u001b[1;34m\";\"\u001b[0m\u001b[1;33m)\u001b[0m\u001b[1;33m\u001b[0m\u001b[1;33m\u001b[0m\u001b[0m\n",
      "\u001b[1;32m<ipython-input-34-c6c5f75f6969>\u001b[0m in \u001b[0;36mcleanup\u001b[1;34m(df)\u001b[0m\n\u001b[0;32m    122\u001b[0m     \u001b[0mfinal_df\u001b[0m\u001b[1;33m[\u001b[0m\u001b[1;34m'Contratto'\u001b[0m\u001b[1;33m]\u001b[0m \u001b[1;33m=\u001b[0m \u001b[0mcontract\u001b[0m\u001b[1;33m\u001b[0m\u001b[1;33m\u001b[0m\u001b[0m\n\u001b[0;32m    123\u001b[0m     \u001b[0mfinal_df\u001b[0m\u001b[1;33m[\u001b[0m\u001b[1;34m'Tipologia'\u001b[0m\u001b[1;33m]\u001b[0m \u001b[1;33m=\u001b[0m \u001b[0mtipologia\u001b[0m\u001b[1;33m\u001b[0m\u001b[1;33m\u001b[0m\u001b[0m\n\u001b[1;32m--> 124\u001b[1;33m     \u001b[0mfinal_df\u001b[0m\u001b[1;33m[\u001b[0m\u001b[1;34m'Superficie'\u001b[0m\u001b[1;33m]\u001b[0m \u001b[1;33m=\u001b[0m \u001b[0msurface\u001b[0m\u001b[1;33m\u001b[0m\u001b[1;33m\u001b[0m\u001b[0m\n\u001b[0m\u001b[0;32m    125\u001b[0m     \u001b[0mfinal_df\u001b[0m\u001b[1;33m[\u001b[0m\u001b[1;34m'Locali'\u001b[0m\u001b[1;33m]\u001b[0m \u001b[1;33m=\u001b[0m \u001b[0mrooms\u001b[0m\u001b[1;33m\u001b[0m\u001b[1;33m\u001b[0m\u001b[0m\n\u001b[0;32m    126\u001b[0m     \u001b[0mfinal_df\u001b[0m\u001b[1;33m[\u001b[0m\u001b[1;34m'Piano'\u001b[0m\u001b[1;33m]\u001b[0m \u001b[1;33m=\u001b[0m \u001b[0mfloor\u001b[0m\u001b[1;33m\u001b[0m\u001b[1;33m\u001b[0m\u001b[0m\n",
      "\u001b[1;32mc:\\users\\francesco manghi\\anaconda3\\lib\\site-packages\\pandas\\core\\frame.py\u001b[0m in \u001b[0;36m__setitem__\u001b[1;34m(self, key, value)\u001b[0m\n\u001b[0;32m   2936\u001b[0m         \u001b[1;32melse\u001b[0m\u001b[1;33m:\u001b[0m\u001b[1;33m\u001b[0m\u001b[1;33m\u001b[0m\u001b[0m\n\u001b[0;32m   2937\u001b[0m             \u001b[1;31m# set column\u001b[0m\u001b[1;33m\u001b[0m\u001b[1;33m\u001b[0m\u001b[1;33m\u001b[0m\u001b[0m\n\u001b[1;32m-> 2938\u001b[1;33m             \u001b[0mself\u001b[0m\u001b[1;33m.\u001b[0m\u001b[0m_set_item\u001b[0m\u001b[1;33m(\u001b[0m\u001b[0mkey\u001b[0m\u001b[1;33m,\u001b[0m \u001b[0mvalue\u001b[0m\u001b[1;33m)\u001b[0m\u001b[1;33m\u001b[0m\u001b[1;33m\u001b[0m\u001b[0m\n\u001b[0m\u001b[0;32m   2939\u001b[0m \u001b[1;33m\u001b[0m\u001b[0m\n\u001b[0;32m   2940\u001b[0m     \u001b[1;32mdef\u001b[0m \u001b[0m_setitem_slice\u001b[0m\u001b[1;33m(\u001b[0m\u001b[0mself\u001b[0m\u001b[1;33m,\u001b[0m \u001b[0mkey\u001b[0m\u001b[1;33m,\u001b[0m \u001b[0mvalue\u001b[0m\u001b[1;33m)\u001b[0m\u001b[1;33m:\u001b[0m\u001b[1;33m\u001b[0m\u001b[1;33m\u001b[0m\u001b[0m\n",
      "\u001b[1;32mc:\\users\\francesco manghi\\anaconda3\\lib\\site-packages\\pandas\\core\\frame.py\u001b[0m in \u001b[0;36m_set_item\u001b[1;34m(self, key, value)\u001b[0m\n\u001b[0;32m   2998\u001b[0m \u001b[1;33m\u001b[0m\u001b[0m\n\u001b[0;32m   2999\u001b[0m         \u001b[0mself\u001b[0m\u001b[1;33m.\u001b[0m\u001b[0m_ensure_valid_index\u001b[0m\u001b[1;33m(\u001b[0m\u001b[0mvalue\u001b[0m\u001b[1;33m)\u001b[0m\u001b[1;33m\u001b[0m\u001b[1;33m\u001b[0m\u001b[0m\n\u001b[1;32m-> 3000\u001b[1;33m         \u001b[0mvalue\u001b[0m \u001b[1;33m=\u001b[0m \u001b[0mself\u001b[0m\u001b[1;33m.\u001b[0m\u001b[0m_sanitize_column\u001b[0m\u001b[1;33m(\u001b[0m\u001b[0mkey\u001b[0m\u001b[1;33m,\u001b[0m \u001b[0mvalue\u001b[0m\u001b[1;33m)\u001b[0m\u001b[1;33m\u001b[0m\u001b[1;33m\u001b[0m\u001b[0m\n\u001b[0m\u001b[0;32m   3001\u001b[0m         \u001b[0mNDFrame\u001b[0m\u001b[1;33m.\u001b[0m\u001b[0m_set_item\u001b[0m\u001b[1;33m(\u001b[0m\u001b[0mself\u001b[0m\u001b[1;33m,\u001b[0m \u001b[0mkey\u001b[0m\u001b[1;33m,\u001b[0m \u001b[0mvalue\u001b[0m\u001b[1;33m)\u001b[0m\u001b[1;33m\u001b[0m\u001b[1;33m\u001b[0m\u001b[0m\n\u001b[0;32m   3002\u001b[0m \u001b[1;33m\u001b[0m\u001b[0m\n",
      "\u001b[1;32mc:\\users\\francesco manghi\\anaconda3\\lib\\site-packages\\pandas\\core\\frame.py\u001b[0m in \u001b[0;36m_sanitize_column\u001b[1;34m(self, key, value, broadcast)\u001b[0m\n\u001b[0;32m   3634\u001b[0m \u001b[1;33m\u001b[0m\u001b[0m\n\u001b[0;32m   3635\u001b[0m             \u001b[1;31m# turn me into an ndarray\u001b[0m\u001b[1;33m\u001b[0m\u001b[1;33m\u001b[0m\u001b[1;33m\u001b[0m\u001b[0m\n\u001b[1;32m-> 3636\u001b[1;33m             \u001b[0mvalue\u001b[0m \u001b[1;33m=\u001b[0m \u001b[0msanitize_index\u001b[0m\u001b[1;33m(\u001b[0m\u001b[0mvalue\u001b[0m\u001b[1;33m,\u001b[0m \u001b[0mself\u001b[0m\u001b[1;33m.\u001b[0m\u001b[0mindex\u001b[0m\u001b[1;33m,\u001b[0m \u001b[0mcopy\u001b[0m\u001b[1;33m=\u001b[0m\u001b[1;32mFalse\u001b[0m\u001b[1;33m)\u001b[0m\u001b[1;33m\u001b[0m\u001b[1;33m\u001b[0m\u001b[0m\n\u001b[0m\u001b[0;32m   3637\u001b[0m             \u001b[1;32mif\u001b[0m \u001b[1;32mnot\u001b[0m \u001b[0misinstance\u001b[0m\u001b[1;33m(\u001b[0m\u001b[0mvalue\u001b[0m\u001b[1;33m,\u001b[0m \u001b[1;33m(\u001b[0m\u001b[0mnp\u001b[0m\u001b[1;33m.\u001b[0m\u001b[0mndarray\u001b[0m\u001b[1;33m,\u001b[0m \u001b[0mIndex\u001b[0m\u001b[1;33m)\u001b[0m\u001b[1;33m)\u001b[0m\u001b[1;33m:\u001b[0m\u001b[1;33m\u001b[0m\u001b[1;33m\u001b[0m\u001b[0m\n\u001b[0;32m   3638\u001b[0m                 \u001b[1;32mif\u001b[0m \u001b[0misinstance\u001b[0m\u001b[1;33m(\u001b[0m\u001b[0mvalue\u001b[0m\u001b[1;33m,\u001b[0m \u001b[0mlist\u001b[0m\u001b[1;33m)\u001b[0m \u001b[1;32mand\u001b[0m \u001b[0mlen\u001b[0m\u001b[1;33m(\u001b[0m\u001b[0mvalue\u001b[0m\u001b[1;33m)\u001b[0m \u001b[1;33m>\u001b[0m \u001b[1;36m0\u001b[0m\u001b[1;33m:\u001b[0m\u001b[1;33m\u001b[0m\u001b[1;33m\u001b[0m\u001b[0m\n",
      "\u001b[1;32mc:\\users\\francesco manghi\\anaconda3\\lib\\site-packages\\pandas\\core\\internals\\construction.py\u001b[0m in \u001b[0;36msanitize_index\u001b[1;34m(data, index, copy)\u001b[0m\n\u001b[0;32m    609\u001b[0m \u001b[1;33m\u001b[0m\u001b[0m\n\u001b[0;32m    610\u001b[0m     \u001b[1;32mif\u001b[0m \u001b[0mlen\u001b[0m\u001b[1;33m(\u001b[0m\u001b[0mdata\u001b[0m\u001b[1;33m)\u001b[0m \u001b[1;33m!=\u001b[0m \u001b[0mlen\u001b[0m\u001b[1;33m(\u001b[0m\u001b[0mindex\u001b[0m\u001b[1;33m)\u001b[0m\u001b[1;33m:\u001b[0m\u001b[1;33m\u001b[0m\u001b[1;33m\u001b[0m\u001b[0m\n\u001b[1;32m--> 611\u001b[1;33m         \u001b[1;32mraise\u001b[0m \u001b[0mValueError\u001b[0m\u001b[1;33m(\u001b[0m\u001b[1;34m\"Length of values does not match length of index\"\u001b[0m\u001b[1;33m)\u001b[0m\u001b[1;33m\u001b[0m\u001b[1;33m\u001b[0m\u001b[0m\n\u001b[0m\u001b[0;32m    612\u001b[0m \u001b[1;33m\u001b[0m\u001b[0m\n\u001b[0;32m    613\u001b[0m     \u001b[1;32mif\u001b[0m \u001b[0misinstance\u001b[0m\u001b[1;33m(\u001b[0m\u001b[0mdata\u001b[0m\u001b[1;33m,\u001b[0m \u001b[0mABCIndexClass\u001b[0m\u001b[1;33m)\u001b[0m \u001b[1;32mand\u001b[0m \u001b[1;32mnot\u001b[0m \u001b[0mcopy\u001b[0m\u001b[1;33m:\u001b[0m\u001b[1;33m\u001b[0m\u001b[1;33m\u001b[0m\u001b[0m\n",
      "\u001b[1;31mValueError\u001b[0m: Length of values does not match length of index"
     ]
    }
   ],
   "source": [
    "final = cleanup(df_scrape)\n",
    "final.to_csv('dataset_da_allenamento.csv', sep=\";\")"
   ]
  },
  {
   "cell_type": "code",
   "execution_count": 36,
   "metadata": {},
   "outputs": [
    {
     "ename": "NameError",
     "evalue": "name 'surface' is not defined",
     "output_type": "error",
     "traceback": [
      "\u001b[1;31m---------------------------------------------------------------------------\u001b[0m",
      "\u001b[1;31mNameError\u001b[0m                                 Traceback (most recent call last)",
      "\u001b[1;32m<ipython-input-36-9895b8f49755>\u001b[0m in \u001b[0;36m<module>\u001b[1;34m\u001b[0m\n\u001b[1;32m----> 1\u001b[1;33m \u001b[0msurface\u001b[0m\u001b[1;33m\u001b[0m\u001b[1;33m\u001b[0m\u001b[0m\n\u001b[0m",
      "\u001b[1;31mNameError\u001b[0m: name 'surface' is not defined"
     ]
    }
   ],
   "source": [
    "surface"
   ]
  },
  {
   "cell_type": "markdown",
   "metadata": {},
   "source": [
    "## --------------------------"
   ]
  },
  {
   "cell_type": "code",
   "execution_count": 50,
   "metadata": {},
   "outputs": [
    {
     "ename": "IndexError",
     "evalue": "list index out of range",
     "output_type": "error",
     "traceback": [
      "\u001b[1;31m---------------------------------------------------------------------------\u001b[0m",
      "\u001b[1;31mIndexError\u001b[0m                                Traceback (most recent call last)",
      "\u001b[1;32m<ipython-input-50-781e9a80f43a>\u001b[0m in \u001b[0;36m<module>\u001b[1;34m\u001b[0m\n\u001b[1;32m----> 1\u001b[1;33m \u001b[0mnomi\u001b[0m\u001b[1;33m,\u001b[0m \u001b[0mvalori\u001b[0m \u001b[1;33m=\u001b[0m \u001b[0mscrape_link\u001b[0m\u001b[1;33m(\u001b[0m\u001b[1;34m'https://www.immobiliare.it/annunci/79608977/'\u001b[0m\u001b[1;33m)\u001b[0m\u001b[1;33m\u001b[0m\u001b[1;33m\u001b[0m\u001b[0m\n\u001b[0m",
      "\u001b[1;32m<ipython-input-46-6df0ddb5129c>\u001b[0m in \u001b[0;36mscrape_link\u001b[1;34m(website)\u001b[0m\n\u001b[0;32m     66\u001b[0m         \u001b[0mtemp\u001b[0m \u001b[1;33m=\u001b[0m \u001b[1;33m[\u001b[0m\u001b[1;33m]\u001b[0m\u001b[1;33m\u001b[0m\u001b[1;33m\u001b[0m\u001b[0m\n\u001b[0;32m     67\u001b[0m \u001b[1;33m\u001b[0m\u001b[0m\n\u001b[1;32m---> 68\u001b[1;33m     \u001b[0mvalori\u001b[0m\u001b[1;33m[\u001b[0m\u001b[1;33m-\u001b[0m\u001b[1;36m1\u001b[0m\u001b[1;33m]\u001b[0m \u001b[1;33m=\u001b[0m \u001b[1;33m(\u001b[0m\u001b[0mdata\u001b[0m\u001b[1;33m.\u001b[0m\u001b[0mfind_all\u001b[0m\u001b[1;33m(\u001b[0m\u001b[1;34m'dd'\u001b[0m\u001b[1;33m,\u001b[0m \u001b[1;33m{\u001b[0m\u001b[1;34m'class'\u001b[0m\u001b[1;33m:\u001b[0m \u001b[1;34m'im-features__value'\u001b[0m\u001b[1;33m}\u001b[0m\u001b[1;33m)\u001b[0m\u001b[1;33m[\u001b[0m\u001b[1;36m16\u001b[0m\u001b[1;33m]\u001b[0m\u001b[1;33m.\u001b[0m\u001b[0mfind_all\u001b[0m\u001b[1;33m(\u001b[0m\u001b[1;34m'span'\u001b[0m\u001b[1;33m)\u001b[0m\u001b[1;33m[\u001b[0m\u001b[1;36m0\u001b[0m\u001b[1;33m]\u001b[0m\u001b[1;33m.\u001b[0m\u001b[0mstring\u001b[0m\u001b[1;33m)\u001b[0m\u001b[1;33m\u001b[0m\u001b[1;33m\u001b[0m\u001b[0m\n\u001b[0m\u001b[0;32m     69\u001b[0m \u001b[1;33m\u001b[0m\u001b[0m\n\u001b[0;32m     70\u001b[0m     \u001b[1;32mfor\u001b[0m \u001b[0mlink\u001b[0m \u001b[1;32min\u001b[0m \u001b[0mdata\u001b[0m\u001b[1;33m.\u001b[0m\u001b[0mfind_all\u001b[0m\u001b[1;33m(\u001b[0m\u001b[1;34m'dt'\u001b[0m\u001b[1;33m)\u001b[0m\u001b[1;33m:\u001b[0m\u001b[1;33m\u001b[0m\u001b[1;33m\u001b[0m\u001b[0m\n",
      "\u001b[1;31mIndexError\u001b[0m: list index out of range"
     ]
    }
   ],
   "source": [
    "nomi, valori = scrape_link('https://www.immobiliare.it/annunci/79608977/')"
   ]
  },
  {
   "cell_type": "code",
   "execution_count": 40,
   "metadata": {},
   "outputs": [],
   "source": [
    "data = connect('https://www.immobiliare.it/annunci/80787725/')\n",
    "nomi = []\n",
    "valori = []\n",
    "temp = []\n",
    "\n",
    "for link in (data.find_all('dd', {'class': 'im-features__value'})[1], data.find_all('dd', {'class': 'im-features__value'})[9], data.find_all('dd', {'class': 'im-features__value'})[12]):\n",
    "    temp.append(link)\n",
    "    try:\n",
    "        temp = str(temp).replace('</dd>', '')\n",
    "        temp = str(temp).replace('<dt', '</dd><dt')\n",
    "        temp = BeautifulSoup(temp, \"html.parser\")\n",
    "        for elem in temp.find_all('dd'):\n",
    "            valori.append(elem.string.strip())\n",
    "    except:\n",
    "        #print('errore')\n",
    "        pass\n",
    "    temp = []\n",
    "\n",
    "valori[-1] = (data.find_all('dd', {'class': 'im-features__value'})[16].find_all('span')[0].string)\n",
    "\n",
    "for link in data.find_all('dt'):\n",
    "    if link.string == None:\n",
    "        pass\n",
    "    else:\n",
    "        nomi.append(link.string.strip())\n",
    "\n",
    "while len(valori)<len(nomi):\n",
    "    valori.append(0)\n",
    "\n",
    "while len(nomi)<len(valori):\n",
    "    nomi.append('Prestazione energetica del fabbricato')"
   ]
  },
  {
   "cell_type": "code",
   "execution_count": 39,
   "metadata": {},
   "outputs": [
    {
     "data": {
      "text/plain": [
       "['Affitto',\n",
       " 'Appartamento',\n",
       " '60 m²',\n",
       " '2 (1 camera da letto, 1 altro), 1 bagno, cucina abitabile',\n",
       " '4° stabile',\n",
       " '4 piani',\n",
       " 'Libero',\n",
       " 'Intera proprietà, classe immobile media',\n",
       " 'Classe A/3            ]']"
      ]
     },
     "execution_count": 39,
     "metadata": {},
     "output_type": "execute_result"
    }
   ],
   "source": [
    "valori"
   ]
  },
  {
   "cell_type": "code",
   "execution_count": 41,
   "metadata": {},
   "outputs": [
    {
     "data": {
      "text/plain": [
       "['riferimento e Data annuncio',\n",
       " 'contratto',\n",
       " 'tipologia',\n",
       " 'superficie',\n",
       " 'locali',\n",
       " 'piano',\n",
       " 'totale piani edificio',\n",
       " 'disponibilità',\n",
       " 'Tipo proprietà',\n",
       " 'altre caratteristiche',\n",
       " 'prezzo',\n",
       " 'spese condominio',\n",
       " 'informazioni catastali',\n",
       " 'anno di costruzione',\n",
       " 'stato',\n",
       " 'riscaldamento',\n",
       " 'Classe energetica']"
      ]
     },
     "execution_count": 41,
     "metadata": {},
     "output_type": "execute_result"
    }
   ],
   "source": [
    "nomi"
   ]
  },
  {
   "cell_type": "code",
   "execution_count": 60,
   "metadata": {},
   "outputs": [],
   "source": [
    "data = connect('https://www.immobiliare.it/annunci/80787725/')\n",
    "html = (data.find_all('dl', {'class': 'im-features__list'}))"
   ]
  },
  {
   "cell_type": "code",
   "execution_count": 62,
   "metadata": {},
   "outputs": [
    {
     "data": {
      "text/plain": [
       "<dl class=\"im-features__list\">\n",
       "<dt class=\"im-features__title\">riferimento e Data annuncio</dt>\n",
       "<dd class=\"im-features__value\">\n",
       "                    120489 - 08/06/2020                    <dt class=\"im-features__title\">contratto</dt>\n",
       "<dd class=\"im-features__value\">\n",
       "                    Affitto                    <dt class=\"im-features__title\">tipologia</dt>\n",
       "<dd class=\"im-features__value\">\n",
       "                    Appartamento                    <dt class=\"im-features__title\">superficie</dt>\n",
       "<dd class=\"im-features__value\">\n",
       "                    60 m²                    <dt class=\"im-features__title\">locali</dt>\n",
       "<dd class=\"im-features__value\">\n",
       "                    2 (1 camera da letto, 1 altro), 1 bagno, cucina abitabile                    <dt class=\"im-features__title\">piano</dt>\n",
       "<dd class=\"im-features__value\">\n",
       "                    4° stabile                    <dt class=\"im-features__title\">totale piani edificio</dt>\n",
       "<dd class=\"im-features__value\">\n",
       "                    4 piani                    <dt class=\"im-features__title\">disponibilità</dt>\n",
       "<dd class=\"im-features__value\">\n",
       "                    Libero                    <dt class=\"im-features__title\">Tipo proprietà</dt>\n",
       "<dd class=\"im-features__value\">\n",
       "                    Intera proprietà, classe immobile media                    <dt class=\"im-features__title\">altre caratteristiche</dt>\n",
       "<dd class=\"im-features__value im-features__tagContainer\">\n",
       "<span class=\"im-features__tag\">\n",
       "                    Porta blindata\n",
       "                </span>\n",
       "<span class=\"im-features__tag\">\n",
       "                    Balcone\n",
       "                </span>\n",
       "<span class=\"im-features__tag\">\n",
       "                    Arredato\n",
       "                </span>\n",
       "</dd></dd></dd></dd></dd></dd></dd></dd></dd></dd></dl>"
      ]
     },
     "execution_count": 62,
     "metadata": {},
     "output_type": "execute_result"
    }
   ],
   "source": [
    "html[0]"
   ]
  },
  {
   "cell_type": "code",
   "execution_count": 37,
   "metadata": {},
   "outputs": [
    {
     "name": "stdout",
     "output_type": "stream",
     "text": [
      "\n",
      "\n",
      "--------------------\n",
      "<dt class=\"im-features__title\">riferimento e Data annuncio</dt>\n",
      "--------------------\n",
      "\n",
      "\n",
      "--------------------\n",
      "<dd class=\"im-features__value\">\n",
      "                    120489 - 08/06/2020                    <dt class=\"im-features__title\">contratto</dt>\n",
      "<dd class=\"im-features__value\">\n",
      "                    Affitto                    <dt class=\"im-features__title\">tipologia</dt>\n",
      "<dd class=\"im-features__value\">\n",
      "                    Appartamento                    <dt class=\"im-features__title\">superficie</dt>\n",
      "<dd class=\"im-features__value\">\n",
      "                    60 m²                    <dt class=\"im-features__title\">locali</dt>\n",
      "<dd class=\"im-features__value\">\n",
      "                    2 (1 camera da letto, 1 altro), 1 bagno, cucina abitabile                    <dt class=\"im-features__title\">piano</dt>\n",
      "<dd class=\"im-features__value\">\n",
      "                    4° stabile                    <dt class=\"im-features__title\">totale piani edificio</dt>\n",
      "<dd class=\"im-features__value\">\n",
      "                    4 piani                    <dt class=\"im-features__title\">disponibilità</dt>\n",
      "<dd class=\"im-features__value\">\n",
      "                    Libero                    <dt class=\"im-features__title\">Tipo proprietà</dt>\n",
      "<dd class=\"im-features__value\">\n",
      "                    Intera proprietà, classe immobile media                    <dt class=\"im-features__title\">altre caratteristiche</dt>\n",
      "<dd class=\"im-features__value im-features__tagContainer\">\n",
      "<span class=\"im-features__tag\">\n",
      "                    Porta blindata\n",
      "                </span>\n",
      "<span class=\"im-features__tag\">\n",
      "                    Balcone\n",
      "                </span>\n",
      "<span class=\"im-features__tag\">\n",
      "                    Arredato\n",
      "                </span>\n",
      "</dd></dd></dd></dd></dd></dd></dd></dd></dd></dd>\n",
      "--------------------\n",
      "\n",
      "\n",
      "--------------------\n",
      "<dt class=\"im-features__title\">prezzo</dt>\n",
      "--------------------\n",
      "\n",
      "\n",
      "--------------------\n",
      "<dd class=\"im-features__value\">\n",
      "                    € 560/mese                    <dt class=\"im-features__title\">spese condominio</dt>\n",
      "<dd class=\"im-features__value\">\n",
      "                    € 20/mese                    <dt class=\"im-features__title\">informazioni catastali</dt>\n",
      "<dd class=\"im-features__value\">\n",
      "                    Classe A/3            </dd></dd></dd>\n",
      "--------------------\n",
      "\n",
      "\n",
      "--------------------\n",
      "<dt class=\"im-features__title\">anno di costruzione</dt>\n",
      "--------------------\n",
      "\n",
      "\n",
      "--------------------\n",
      "<dd class=\"im-features__value\">\n",
      "                    1950                    <dt class=\"im-features__title\">stato</dt>\n",
      "<dd class=\"im-features__value\">\n",
      "                    Ottimo / Ristrutturato                    <dt class=\"im-features__title\">riscaldamento</dt>\n",
      "<dd class=\"im-features__value\">\n",
      "                    Centralizzato, a radiatori, alimentato a teleriscaldamento                    <dt class=\"im-features__title\">Classe energetica</dt>\n",
      "<dd class=\"im-features__value im-features__energyClass\">\n",
      "<span class=\"im-features__energy\" data-class=\"G\">G</span> </dd></dd></dd></dd>\n",
      "--------------------\n"
     ]
    }
   ],
   "source": [
    "for item in flat_list:\n",
    "    print(item)\n",
    "    print('--------------------')"
   ]
  },
  {
   "cell_type": "code",
   "execution_count": 50,
   "metadata": {},
   "outputs": [
    {
     "data": {
      "text/plain": [
       "[<span class=\"im-features__energy\" data-class=\"G\">G</span>]"
      ]
     },
     "execution_count": 50,
     "metadata": {},
     "output_type": "execute_result"
    }
   ],
   "source": [
    "data.find_all('dd', {'class': 'im-features__value'})[16].find_all('span')"
   ]
  },
  {
   "cell_type": "code",
   "execution_count": 59,
   "metadata": {},
   "outputs": [
    {
     "name": "stdout",
     "output_type": "stream",
     "text": [
      "4\n",
      "<dd class=\"im-features__value\">\n",
      "                    120489 - 08/06/2020                    <dt class=\"im-features__title\">contratto</dt>\n",
      "<dd class=\"im-features__value\">\n",
      "                    Affitto                    <dt class=\"im-features__title\">tipologia</dt>\n",
      "<dd class=\"im-features__value\">\n",
      "                    Appartamento                    <dt class=\"im-features__title\">superficie</dt>\n",
      "<dd class=\"im-features__value\">\n",
      "                    60 m²                    <dt class=\"im-features__title\">locali</dt>\n",
      "<dd class=\"im-features__value\">\n",
      "                    2 (1 camera da letto, 1 altro), 1 bagno, cucina abitabile                    <dt class=\"im-features__title\">piano</dt>\n",
      "<dd class=\"im-features__value\">\n",
      "                    4° stabile                    <dt class=\"im-features__title\">totale piani edificio</dt>\n",
      "<dd class=\"im-features__value\">\n",
      "                    4 piani                    <dt class=\"im-features__title\">disponibilità</dt>\n",
      "<dd class=\"im-features__value\">\n",
      "                    Libero                    <dt class=\"im-features__title\">Tipo proprietà</dt>\n",
      "<dd class=\"im-features__value\">\n",
      "                    Intera proprietà, classe immobile media                    <dt class=\"im-features__title\">altre caratteristiche</dt>\n",
      "<dd class=\"im-features__value im-features__tagContainer\">\n",
      "<span class=\"im-features__tag\">\n",
      "                    Porta blindata\n",
      "                </span>\n",
      "<span class=\"im-features__tag\">\n",
      "                    Balcone\n",
      "                </span>\n",
      "<span class=\"im-features__tag\">\n",
      "                    Arredato\n",
      "                </span>\n",
      "</dd></dd></dd></dd></dd></dd></dd></dd></dd></dd>\n",
      "4\n",
      "<dd class=\"im-features__value\">\n",
      "                    Affitto                    <dt class=\"im-features__title\">tipologia</dt>\n",
      "<dd class=\"im-features__value\">\n",
      "                    Appartamento                    <dt class=\"im-features__title\">superficie</dt>\n",
      "<dd class=\"im-features__value\">\n",
      "                    60 m²                    <dt class=\"im-features__title\">locali</dt>\n",
      "<dd class=\"im-features__value\">\n",
      "                    2 (1 camera da letto, 1 altro), 1 bagno, cucina abitabile                    <dt class=\"im-features__title\">piano</dt>\n",
      "<dd class=\"im-features__value\">\n",
      "                    4° stabile                    <dt class=\"im-features__title\">totale piani edificio</dt>\n",
      "<dd class=\"im-features__value\">\n",
      "                    4 piani                    <dt class=\"im-features__title\">disponibilità</dt>\n",
      "<dd class=\"im-features__value\">\n",
      "                    Libero                    <dt class=\"im-features__title\">Tipo proprietà</dt>\n",
      "<dd class=\"im-features__value\">\n",
      "                    Intera proprietà, classe immobile media                    <dt class=\"im-features__title\">altre caratteristiche</dt>\n",
      "<dd class=\"im-features__value im-features__tagContainer\">\n",
      "<span class=\"im-features__tag\">\n",
      "                    Porta blindata\n",
      "                </span>\n",
      "<span class=\"im-features__tag\">\n",
      "                    Balcone\n",
      "                </span>\n",
      "<span class=\"im-features__tag\">\n",
      "                    Arredato\n",
      "                </span>\n",
      "</dd></dd></dd></dd></dd></dd></dd></dd></dd>\n",
      "4\n",
      "<dd class=\"im-features__value\">\n",
      "                    Appartamento                    <dt class=\"im-features__title\">superficie</dt>\n",
      "<dd class=\"im-features__value\">\n",
      "                    60 m²                    <dt class=\"im-features__title\">locali</dt>\n",
      "<dd class=\"im-features__value\">\n",
      "                    2 (1 camera da letto, 1 altro), 1 bagno, cucina abitabile                    <dt class=\"im-features__title\">piano</dt>\n",
      "<dd class=\"im-features__value\">\n",
      "                    4° stabile                    <dt class=\"im-features__title\">totale piani edificio</dt>\n",
      "<dd class=\"im-features__value\">\n",
      "                    4 piani                    <dt class=\"im-features__title\">disponibilità</dt>\n",
      "<dd class=\"im-features__value\">\n",
      "                    Libero                    <dt class=\"im-features__title\">Tipo proprietà</dt>\n",
      "<dd class=\"im-features__value\">\n",
      "                    Intera proprietà, classe immobile media                    <dt class=\"im-features__title\">altre caratteristiche</dt>\n",
      "<dd class=\"im-features__value im-features__tagContainer\">\n",
      "<span class=\"im-features__tag\">\n",
      "                    Porta blindata\n",
      "                </span>\n",
      "<span class=\"im-features__tag\">\n",
      "                    Balcone\n",
      "                </span>\n",
      "<span class=\"im-features__tag\">\n",
      "                    Arredato\n",
      "                </span>\n",
      "</dd></dd></dd></dd></dd></dd></dd></dd>\n",
      "4\n",
      "<dd class=\"im-features__value\">\n",
      "                    60 m²                    <dt class=\"im-features__title\">locali</dt>\n",
      "<dd class=\"im-features__value\">\n",
      "                    2 (1 camera da letto, 1 altro), 1 bagno, cucina abitabile                    <dt class=\"im-features__title\">piano</dt>\n",
      "<dd class=\"im-features__value\">\n",
      "                    4° stabile                    <dt class=\"im-features__title\">totale piani edificio</dt>\n",
      "<dd class=\"im-features__value\">\n",
      "                    4 piani                    <dt class=\"im-features__title\">disponibilità</dt>\n",
      "<dd class=\"im-features__value\">\n",
      "                    Libero                    <dt class=\"im-features__title\">Tipo proprietà</dt>\n",
      "<dd class=\"im-features__value\">\n",
      "                    Intera proprietà, classe immobile media                    <dt class=\"im-features__title\">altre caratteristiche</dt>\n",
      "<dd class=\"im-features__value im-features__tagContainer\">\n",
      "<span class=\"im-features__tag\">\n",
      "                    Porta blindata\n",
      "                </span>\n",
      "<span class=\"im-features__tag\">\n",
      "                    Balcone\n",
      "                </span>\n",
      "<span class=\"im-features__tag\">\n",
      "                    Arredato\n",
      "                </span>\n",
      "</dd></dd></dd></dd></dd></dd></dd>\n",
      "4\n",
      "<dd class=\"im-features__value\">\n",
      "                    2 (1 camera da letto, 1 altro), 1 bagno, cucina abitabile                    <dt class=\"im-features__title\">piano</dt>\n",
      "<dd class=\"im-features__value\">\n",
      "                    4° stabile                    <dt class=\"im-features__title\">totale piani edificio</dt>\n",
      "<dd class=\"im-features__value\">\n",
      "                    4 piani                    <dt class=\"im-features__title\">disponibilità</dt>\n",
      "<dd class=\"im-features__value\">\n",
      "                    Libero                    <dt class=\"im-features__title\">Tipo proprietà</dt>\n",
      "<dd class=\"im-features__value\">\n",
      "                    Intera proprietà, classe immobile media                    <dt class=\"im-features__title\">altre caratteristiche</dt>\n",
      "<dd class=\"im-features__value im-features__tagContainer\">\n",
      "<span class=\"im-features__tag\">\n",
      "                    Porta blindata\n",
      "                </span>\n",
      "<span class=\"im-features__tag\">\n",
      "                    Balcone\n",
      "                </span>\n",
      "<span class=\"im-features__tag\">\n",
      "                    Arredato\n",
      "                </span>\n",
      "</dd></dd></dd></dd></dd></dd>\n",
      "4\n",
      "<dd class=\"im-features__value\">\n",
      "                    4° stabile                    <dt class=\"im-features__title\">totale piani edificio</dt>\n",
      "<dd class=\"im-features__value\">\n",
      "                    4 piani                    <dt class=\"im-features__title\">disponibilità</dt>\n",
      "<dd class=\"im-features__value\">\n",
      "                    Libero                    <dt class=\"im-features__title\">Tipo proprietà</dt>\n",
      "<dd class=\"im-features__value\">\n",
      "                    Intera proprietà, classe immobile media                    <dt class=\"im-features__title\">altre caratteristiche</dt>\n",
      "<dd class=\"im-features__value im-features__tagContainer\">\n",
      "<span class=\"im-features__tag\">\n",
      "                    Porta blindata\n",
      "                </span>\n",
      "<span class=\"im-features__tag\">\n",
      "                    Balcone\n",
      "                </span>\n",
      "<span class=\"im-features__tag\">\n",
      "                    Arredato\n",
      "                </span>\n",
      "</dd></dd></dd></dd></dd>\n",
      "4\n",
      "<dd class=\"im-features__value\">\n",
      "                    4 piani                    <dt class=\"im-features__title\">disponibilità</dt>\n",
      "<dd class=\"im-features__value\">\n",
      "                    Libero                    <dt class=\"im-features__title\">Tipo proprietà</dt>\n",
      "<dd class=\"im-features__value\">\n",
      "                    Intera proprietà, classe immobile media                    <dt class=\"im-features__title\">altre caratteristiche</dt>\n",
      "<dd class=\"im-features__value im-features__tagContainer\">\n",
      "<span class=\"im-features__tag\">\n",
      "                    Porta blindata\n",
      "                </span>\n",
      "<span class=\"im-features__tag\">\n",
      "                    Balcone\n",
      "                </span>\n",
      "<span class=\"im-features__tag\">\n",
      "                    Arredato\n",
      "                </span>\n",
      "</dd></dd></dd></dd>\n",
      "4\n",
      "<dd class=\"im-features__value\">\n",
      "                    Libero                    <dt class=\"im-features__title\">Tipo proprietà</dt>\n",
      "<dd class=\"im-features__value\">\n",
      "                    Intera proprietà, classe immobile media                    <dt class=\"im-features__title\">altre caratteristiche</dt>\n",
      "<dd class=\"im-features__value im-features__tagContainer\">\n",
      "<span class=\"im-features__tag\">\n",
      "                    Porta blindata\n",
      "                </span>\n",
      "<span class=\"im-features__tag\">\n",
      "                    Balcone\n",
      "                </span>\n",
      "<span class=\"im-features__tag\">\n",
      "                    Arredato\n",
      "                </span>\n",
      "</dd></dd></dd>\n",
      "4\n",
      "<dd class=\"im-features__value\">\n",
      "                    Intera proprietà, classe immobile media                    <dt class=\"im-features__title\">altre caratteristiche</dt>\n",
      "<dd class=\"im-features__value im-features__tagContainer\">\n",
      "<span class=\"im-features__tag\">\n",
      "                    Porta blindata\n",
      "                </span>\n",
      "<span class=\"im-features__tag\">\n",
      "                    Balcone\n",
      "                </span>\n",
      "<span class=\"im-features__tag\">\n",
      "                    Arredato\n",
      "                </span>\n",
      "</dd></dd>\n",
      "7\n",
      "<dd class=\"im-features__value im-features__tagContainer\">\n",
      "<span class=\"im-features__tag\">\n",
      "                    Porta blindata\n",
      "                </span>\n",
      "<span class=\"im-features__tag\">\n",
      "                    Balcone\n",
      "                </span>\n",
      "<span class=\"im-features__tag\">\n",
      "                    Arredato\n",
      "                </span>\n",
      "</dd>\n",
      "4\n",
      "<dd class=\"im-features__value\">\n",
      "                    € 560/mese                    <dt class=\"im-features__title\">spese condominio</dt>\n",
      "<dd class=\"im-features__value\">\n",
      "                    € 20/mese                    <dt class=\"im-features__title\">informazioni catastali</dt>\n",
      "<dd class=\"im-features__value\">\n",
      "                    Classe A/3            </dd></dd></dd>\n",
      "4\n",
      "<dd class=\"im-features__value\">\n",
      "                    € 20/mese                    <dt class=\"im-features__title\">informazioni catastali</dt>\n",
      "<dd class=\"im-features__value\">\n",
      "                    Classe A/3            </dd></dd>\n",
      "1\n",
      "<dd class=\"im-features__value\">\n",
      "                    Classe A/3            </dd>\n",
      "4\n",
      "<dd class=\"im-features__value\">\n",
      "                    1950                    <dt class=\"im-features__title\">stato</dt>\n",
      "<dd class=\"im-features__value\">\n",
      "                    Ottimo / Ristrutturato                    <dt class=\"im-features__title\">riscaldamento</dt>\n",
      "<dd class=\"im-features__value\">\n",
      "                    Centralizzato, a radiatori, alimentato a teleriscaldamento                    <dt class=\"im-features__title\">Classe energetica</dt>\n",
      "<dd class=\"im-features__value im-features__energyClass\">\n",
      "<span class=\"im-features__energy\" data-class=\"G\">G</span> </dd></dd></dd></dd>\n",
      "4\n",
      "<dd class=\"im-features__value\">\n",
      "                    Ottimo / Ristrutturato                    <dt class=\"im-features__title\">riscaldamento</dt>\n",
      "<dd class=\"im-features__value\">\n",
      "                    Centralizzato, a radiatori, alimentato a teleriscaldamento                    <dt class=\"im-features__title\">Classe energetica</dt>\n",
      "<dd class=\"im-features__value im-features__energyClass\">\n",
      "<span class=\"im-features__energy\" data-class=\"G\">G</span> </dd></dd></dd>\n",
      "4\n",
      "<dd class=\"im-features__value\">\n",
      "                    Centralizzato, a radiatori, alimentato a teleriscaldamento                    <dt class=\"im-features__title\">Classe energetica</dt>\n",
      "<dd class=\"im-features__value im-features__energyClass\">\n",
      "<span class=\"im-features__energy\" data-class=\"G\">G</span> </dd></dd>\n",
      "3\n",
      "<dd class=\"im-features__value im-features__energyClass\">\n",
      "<span class=\"im-features__energy\" data-class=\"G\">G</span> </dd>\n"
     ]
    }
   ],
   "source": [
    "for link in data.find_all('dd', {'class': 'im-features__value'}):\n",
    "    print(len(link))\n",
    "    print(link)"
   ]
  },
  {
   "cell_type": "code",
   "execution_count": null,
   "metadata": {},
   "outputs": [],
   "source": []
  }
 ],
 "metadata": {
  "kernelspec": {
   "display_name": "Python 3",
   "language": "python",
   "name": "python3"
  },
  "language_info": {
   "codemirror_mode": {
    "name": "ipython",
    "version": 3
   },
   "file_extension": ".py",
   "mimetype": "text/x-python",
   "name": "python",
   "nbconvert_exporter": "python",
   "pygments_lexer": "ipython3",
   "version": "3.7.7"
  }
 },
 "nbformat": 4,
 "nbformat_minor": 4
}
