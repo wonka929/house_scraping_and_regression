{
 "cells": [
  {
   "cell_type": "code",
   "execution_count": 1,
   "metadata": {},
   "outputs": [],
   "source": [
    "from bs4 import BeautifulSoup as bs\n",
    "import requests\n",
    "import re\n",
    "import pandas as pd"
   ]
  },
  {
   "cell_type": "code",
   "execution_count": 2,
   "metadata": {},
   "outputs": [],
   "source": [
    "from autoscraper import AutoScraper\n",
    "scraper = AutoScraper()"
   ]
  },
  {
   "cell_type": "code",
   "execution_count": 3,
   "metadata": {},
   "outputs": [],
   "source": [
    "generic = \"https://www.casa.it/affitto/residenziale/torino/\"\n",
    "website = requests.get(\"https://www.casa.it/affitto/residenziale/torino/\")\n",
    "soup = bs(website.content, \"lxml\")"
   ]
  },
  {
   "cell_type": "code",
   "execution_count": 4,
   "metadata": {},
   "outputs": [],
   "source": [
    "locations = []\n",
    "for ul in soup.findAll('ul')[0]:\n",
    "    #print(ul)\n",
    "    #print(ul.findAll(class_=\"locName\")[0])\n",
    "    locations.append((ul.find(\"a\", href= re.compile(r'[/]([a-z]|[A-Z])\\w+')).attrs['href']).split('/')[-2])"
   ]
  },
  {
   "cell_type": "code",
   "execution_count": 5,
   "metadata": {},
   "outputs": [
    {
     "data": {
      "text/plain": [
       "['aurora',\n",
       " 'barriera-milano',\n",
       " 'borgata-vittoria',\n",
       " 'campidoglio',\n",
       " 'cenisia',\n",
       " 'centro-giardini-reali-repubblica',\n",
       " 'cit-turin',\n",
       " 'crocetta',\n",
       " 'falchera-villaretto',\n",
       " 'le-vallette-lucento-juventus-stadium',\n",
       " 'lingotto',\n",
       " 'madonna-campagna',\n",
       " 'madonna-del-pilone-sassi',\n",
       " 'mirafiori-nord',\n",
       " 'mirafiori-sud',\n",
       " 'nizza-millefonti',\n",
       " 'parella',\n",
       " 'pozzo-strada',\n",
       " 'precollina',\n",
       " 'regio-parco-barca',\n",
       " 'san-donato',\n",
       " 'san-paolo',\n",
       " 'san-salvario-parco-valentino',\n",
       " 'santa-rita',\n",
       " 'vanchiglia-vanchiglietta']"
      ]
     },
     "execution_count": 5,
     "metadata": {},
     "output_type": "execute_result"
    }
   ],
   "source": [
    "locations"
   ]
  },
  {
   "cell_type": "code",
   "execution_count": 6,
   "metadata": {},
   "outputs": [],
   "source": [
    "links = []\n",
    "for location in locations:\n",
    "    link = generic + location + \"/\"\n",
    "    links.append(link)"
   ]
  },
  {
   "cell_type": "code",
   "execution_count": 7,
   "metadata": {},
   "outputs": [
    {
     "data": {
      "text/plain": [
       "['https://www.casa.it/affitto/residenziale/torino/aurora/',\n",
       " 'https://www.casa.it/affitto/residenziale/torino/barriera-milano/',\n",
       " 'https://www.casa.it/affitto/residenziale/torino/borgata-vittoria/',\n",
       " 'https://www.casa.it/affitto/residenziale/torino/campidoglio/',\n",
       " 'https://www.casa.it/affitto/residenziale/torino/cenisia/',\n",
       " 'https://www.casa.it/affitto/residenziale/torino/centro-giardini-reali-repubblica/',\n",
       " 'https://www.casa.it/affitto/residenziale/torino/cit-turin/',\n",
       " 'https://www.casa.it/affitto/residenziale/torino/crocetta/',\n",
       " 'https://www.casa.it/affitto/residenziale/torino/falchera-villaretto/',\n",
       " 'https://www.casa.it/affitto/residenziale/torino/le-vallette-lucento-juventus-stadium/',\n",
       " 'https://www.casa.it/affitto/residenziale/torino/lingotto/',\n",
       " 'https://www.casa.it/affitto/residenziale/torino/madonna-campagna/',\n",
       " 'https://www.casa.it/affitto/residenziale/torino/madonna-del-pilone-sassi/',\n",
       " 'https://www.casa.it/affitto/residenziale/torino/mirafiori-nord/',\n",
       " 'https://www.casa.it/affitto/residenziale/torino/mirafiori-sud/',\n",
       " 'https://www.casa.it/affitto/residenziale/torino/nizza-millefonti/',\n",
       " 'https://www.casa.it/affitto/residenziale/torino/parella/',\n",
       " 'https://www.casa.it/affitto/residenziale/torino/pozzo-strada/',\n",
       " 'https://www.casa.it/affitto/residenziale/torino/precollina/',\n",
       " 'https://www.casa.it/affitto/residenziale/torino/regio-parco-barca/',\n",
       " 'https://www.casa.it/affitto/residenziale/torino/san-donato/',\n",
       " 'https://www.casa.it/affitto/residenziale/torino/san-paolo/',\n",
       " 'https://www.casa.it/affitto/residenziale/torino/san-salvario-parco-valentino/',\n",
       " 'https://www.casa.it/affitto/residenziale/torino/santa-rita/',\n",
       " 'https://www.casa.it/affitto/residenziale/torino/vanchiglia-vanchiglietta/']"
      ]
     },
     "execution_count": 7,
     "metadata": {},
     "output_type": "execute_result"
    }
   ],
   "source": [
    "links"
   ]
  },
  {
   "cell_type": "code",
   "execution_count": 8,
   "metadata": {},
   "outputs": [
    {
     "data": {
      "text/plain": [
       "'/affitto/residenziale/torino?page=9'"
      ]
     },
     "execution_count": 8,
     "metadata": {},
     "output_type": "execute_result"
    }
   ],
   "source": [
    "web = requests.get(link)\n",
    "soup = bs(website.content, \"lxml\")\n",
    "\n",
    "soup.findAll(class_= \"paginator__page tp-s--s\", href=True)[-1].attrs['href']"
   ]
  },
  {
   "cell_type": "code",
   "execution_count": 96,
   "metadata": {},
   "outputs": [
    {
     "name": "stdout",
     "output_type": "stream",
     "text": [
      "list index out of range\n"
     ]
    }
   ],
   "source": [
    "announces_links = []\n",
    "\n",
    "url = 'https://www.casa.it/affitto/residenziale/torino/aurora/' \n",
    "wanted_list = ['/appartamento/affitto/torino/lungo-dora-savona-16-torino-50mq-40417473/', '/appartamento/affitto/torino/via-pesaro-torino-42mq-40588409/'] \n",
    "scraper.build(url, wanted_list)\n",
    "districts_list = []\n",
    "\n",
    "for link in links:\n",
    "    district = link.split('/')[-2]\n",
    "    try:\n",
    "        web = requests.get(link)\n",
    "        soup = bs(web.content, \"lxml\")\n",
    "        last = int(soup.findAll(class_= \"paginator__page tp-s--s\", href=True)[-1].attrs['href'].split('=')[1])\n",
    "        last_1 = 0\n",
    "        \n",
    "        while last_1 != last:\n",
    "            page_link = link + '?page=' + str(last)\n",
    "            sousage = requests.get(page_link)\n",
    "            sousage = bs(sousage.content, \"lxml\")\n",
    "            last_1 = last\n",
    "            try:\n",
    "                last = int(sousage.findAll(class_= \"paginator__page tp-s--s\", href=True)[-1].attrs['href'].split('=')[1])\n",
    "            except:\n",
    "                last = last_1\n",
    "            \n",
    "        for page in range(0,last+1):\n",
    "            page_link = link + '?page=' + str(page)\n",
    "            announces_links.append(scraper.get_result_similar(page_link))\n",
    "            districts_list.append([district] * len(scraper.get_result_similar(page_link)))\n",
    "            \n",
    "    except Exception as e:\n",
    "        print(e)\n",
    "        pass\n",
    "\n",
    "from pandas.core.common import flatten\n",
    "announces_links = list(flatten(announces_links))\n",
    "districts_list = list(flatten(districts_list))"
   ]
  },
  {
   "cell_type": "code",
   "execution_count": 15,
   "metadata": {},
   "outputs": [],
   "source": [
    "import csv\n",
    "with open('announces_list_casa.csv', 'w') as myfile:\n",
    "    wr = csv.writer(myfile)\n",
    "    wr.writerow(announces_links)"
   ]
  },
  {
   "cell_type": "code",
   "execution_count": null,
   "metadata": {},
   "outputs": [],
   "source": []
  },
  {
   "cell_type": "code",
   "execution_count": 89,
   "metadata": {},
   "outputs": [
    {
     "name": "stdout",
     "output_type": "stream",
     "text": [
      "'NoneType' object has no attribute 'text'\n",
      "'NoneType' object has no attribute 'text'\n"
     ]
    }
   ],
   "source": [
    "temp = pd.DataFrame()\n",
    "location = []\n",
    "for elem in announces_links:\n",
    "    try:\n",
    "        website = requests.get('https://www.casa.it' + elem)\n",
    "        soup = bs(website.content, 'lxml')\n",
    "        \n",
    "        data = []\n",
    "        \n",
    "        data.append(['Prezzo', soup.find(class_='infos__list__price').text])\n",
    "        uls = soup.find(class_='grid chars__feats grid grid--direction-column')\n",
    "        for ul in uls:\n",
    "            newsoup = bs(str(ul), 'html.parser')\n",
    "            lis = newsoup.find_all('li')\n",
    "            for li in lis:\n",
    "                data.append(li.text.split(':'))\n",
    "        \n",
    "        data = list(flatten(data))\n",
    "        \n",
    "        def Convert(a):\n",
    "            it = iter(a)\n",
    "            res_dct = dict(zip(it, it))\n",
    "            return res_dct\n",
    "        \n",
    "        mydict = Convert(data)\n",
    "        tt = pd.Series(mydict).to_frame()\n",
    "        temp = pd.DataFrame.merge(temp, tt, how='outer', left_index=True, right_index=True)\n",
    "    \n",
    "    except Exception as e:\n",
    "        print(e)\n",
    "        continue"
   ]
  },
  {
   "cell_type": "code",
   "execution_count": 90,
   "metadata": {},
   "outputs": [],
   "source": [
    "scrape = temp.T.reset_index().fillna('0').drop(columns='index')\n",
    "scrape['Distretto'] = districts_list[0:scrape.shape[0]]"
   ]
  },
  {
   "cell_type": "code",
   "execution_count": 102,
   "metadata": {},
   "outputs": [],
   "source": [
    "scrape.to_csv('dataset_casait.csv')"
   ]
  },
  {
   "cell_type": "code",
   "execution_count": 2,
   "metadata": {},
   "outputs": [],
   "source": [
    "scrape = pd.read_csv('dataset_casait.csv')"
   ]
  },
  {
   "cell_type": "code",
   "execution_count": 3,
   "metadata": {},
   "outputs": [],
   "source": [
    "scrape['Piano'] = scrape['Piano'].astype(str).str[0:2]"
   ]
  },
  {
   "cell_type": "code",
   "execution_count": 4,
   "metadata": {},
   "outputs": [],
   "source": [
    "scrape['Spese condominiali'] = scrape['Spese condominiali'].astype(str).str[2:-5]"
   ]
  },
  {
   "cell_type": "code",
   "execution_count": 5,
   "metadata": {},
   "outputs": [],
   "source": [
    "scrape['Prezzo'] = scrape['Prezzo'].astype(str).str[2:-8]"
   ]
  },
  {
   "cell_type": "code",
   "execution_count": 6,
   "metadata": {},
   "outputs": [],
   "source": [
    "scrape['Prezzo'] = scrape['Prezzo'].apply(lambda x: x.replace('.',''))"
   ]
  },
  {
   "cell_type": "code",
   "execution_count": 7,
   "metadata": {},
   "outputs": [],
   "source": [
    "from pycaret.regression import *"
   ]
  },
  {
   "cell_type": "code",
   "execution_count": 9,
   "metadata": {},
   "outputs": [
    {
     "name": "stdout",
     "output_type": "stream",
     "text": [
      " \n",
      "Setup Succesfully Completed.\n"
     ]
    },
    {
     "data": {
      "text/html": [
       "<style  type=\"text/css\" >\n",
       "</style><table id=\"T_19eeb092_37d1_11eb_8cd6_e0b9a5834b53\" ><thead>    <tr>        <th class=\"blank level0\" ></th>        <th class=\"col_heading level0 col0\" >Description</th>        <th class=\"col_heading level0 col1\" >Value</th>    </tr></thead><tbody>\n",
       "                <tr>\n",
       "                        <th id=\"T_19eeb092_37d1_11eb_8cd6_e0b9a5834b53level0_row0\" class=\"row_heading level0 row0\" >0</th>\n",
       "                        <td id=\"T_19eeb092_37d1_11eb_8cd6_e0b9a5834b53row0_col0\" class=\"data row0 col0\" >session_id</td>\n",
       "                        <td id=\"T_19eeb092_37d1_11eb_8cd6_e0b9a5834b53row0_col1\" class=\"data row0 col1\" >3341</td>\n",
       "            </tr>\n",
       "            <tr>\n",
       "                        <th id=\"T_19eeb092_37d1_11eb_8cd6_e0b9a5834b53level0_row1\" class=\"row_heading level0 row1\" >1</th>\n",
       "                        <td id=\"T_19eeb092_37d1_11eb_8cd6_e0b9a5834b53row1_col0\" class=\"data row1 col0\" >Transform Target </td>\n",
       "                        <td id=\"T_19eeb092_37d1_11eb_8cd6_e0b9a5834b53row1_col1\" class=\"data row1 col1\" >False</td>\n",
       "            </tr>\n",
       "            <tr>\n",
       "                        <th id=\"T_19eeb092_37d1_11eb_8cd6_e0b9a5834b53level0_row2\" class=\"row_heading level0 row2\" >2</th>\n",
       "                        <td id=\"T_19eeb092_37d1_11eb_8cd6_e0b9a5834b53row2_col0\" class=\"data row2 col0\" >Transform Target Method</td>\n",
       "                        <td id=\"T_19eeb092_37d1_11eb_8cd6_e0b9a5834b53row2_col1\" class=\"data row2 col1\" >None</td>\n",
       "            </tr>\n",
       "            <tr>\n",
       "                        <th id=\"T_19eeb092_37d1_11eb_8cd6_e0b9a5834b53level0_row3\" class=\"row_heading level0 row3\" >3</th>\n",
       "                        <td id=\"T_19eeb092_37d1_11eb_8cd6_e0b9a5834b53row3_col0\" class=\"data row3 col0\" >Original Data</td>\n",
       "                        <td id=\"T_19eeb092_37d1_11eb_8cd6_e0b9a5834b53row3_col1\" class=\"data row3 col1\" >(4206, 24)</td>\n",
       "            </tr>\n",
       "            <tr>\n",
       "                        <th id=\"T_19eeb092_37d1_11eb_8cd6_e0b9a5834b53level0_row4\" class=\"row_heading level0 row4\" >4</th>\n",
       "                        <td id=\"T_19eeb092_37d1_11eb_8cd6_e0b9a5834b53row4_col0\" class=\"data row4 col0\" >Missing Values </td>\n",
       "                        <td id=\"T_19eeb092_37d1_11eb_8cd6_e0b9a5834b53row4_col1\" class=\"data row4 col1\" >False</td>\n",
       "            </tr>\n",
       "            <tr>\n",
       "                        <th id=\"T_19eeb092_37d1_11eb_8cd6_e0b9a5834b53level0_row5\" class=\"row_heading level0 row5\" >5</th>\n",
       "                        <td id=\"T_19eeb092_37d1_11eb_8cd6_e0b9a5834b53row5_col0\" class=\"data row5 col0\" >Numeric Features </td>\n",
       "                        <td id=\"T_19eeb092_37d1_11eb_8cd6_e0b9a5834b53row5_col1\" class=\"data row5 col1\" >3</td>\n",
       "            </tr>\n",
       "            <tr>\n",
       "                        <th id=\"T_19eeb092_37d1_11eb_8cd6_e0b9a5834b53level0_row6\" class=\"row_heading level0 row6\" >6</th>\n",
       "                        <td id=\"T_19eeb092_37d1_11eb_8cd6_e0b9a5834b53row6_col0\" class=\"data row6 col0\" >Categorical Features </td>\n",
       "                        <td id=\"T_19eeb092_37d1_11eb_8cd6_e0b9a5834b53row6_col1\" class=\"data row6 col1\" >20</td>\n",
       "            </tr>\n",
       "            <tr>\n",
       "                        <th id=\"T_19eeb092_37d1_11eb_8cd6_e0b9a5834b53level0_row7\" class=\"row_heading level0 row7\" >7</th>\n",
       "                        <td id=\"T_19eeb092_37d1_11eb_8cd6_e0b9a5834b53row7_col0\" class=\"data row7 col0\" >Ordinal Features </td>\n",
       "                        <td id=\"T_19eeb092_37d1_11eb_8cd6_e0b9a5834b53row7_col1\" class=\"data row7 col1\" >False</td>\n",
       "            </tr>\n",
       "            <tr>\n",
       "                        <th id=\"T_19eeb092_37d1_11eb_8cd6_e0b9a5834b53level0_row8\" class=\"row_heading level0 row8\" >8</th>\n",
       "                        <td id=\"T_19eeb092_37d1_11eb_8cd6_e0b9a5834b53row8_col0\" class=\"data row8 col0\" >High Cardinality Features </td>\n",
       "                        <td id=\"T_19eeb092_37d1_11eb_8cd6_e0b9a5834b53row8_col1\" class=\"data row8 col1\" >False</td>\n",
       "            </tr>\n",
       "            <tr>\n",
       "                        <th id=\"T_19eeb092_37d1_11eb_8cd6_e0b9a5834b53level0_row9\" class=\"row_heading level0 row9\" >9</th>\n",
       "                        <td id=\"T_19eeb092_37d1_11eb_8cd6_e0b9a5834b53row9_col0\" class=\"data row9 col0\" >High Cardinality Method </td>\n",
       "                        <td id=\"T_19eeb092_37d1_11eb_8cd6_e0b9a5834b53row9_col1\" class=\"data row9 col1\" >None</td>\n",
       "            </tr>\n",
       "            <tr>\n",
       "                        <th id=\"T_19eeb092_37d1_11eb_8cd6_e0b9a5834b53level0_row10\" class=\"row_heading level0 row10\" >10</th>\n",
       "                        <td id=\"T_19eeb092_37d1_11eb_8cd6_e0b9a5834b53row10_col0\" class=\"data row10 col0\" >Sampled Data</td>\n",
       "                        <td id=\"T_19eeb092_37d1_11eb_8cd6_e0b9a5834b53row10_col1\" class=\"data row10 col1\" >(4206, 24)</td>\n",
       "            </tr>\n",
       "            <tr>\n",
       "                        <th id=\"T_19eeb092_37d1_11eb_8cd6_e0b9a5834b53level0_row11\" class=\"row_heading level0 row11\" >11</th>\n",
       "                        <td id=\"T_19eeb092_37d1_11eb_8cd6_e0b9a5834b53row11_col0\" class=\"data row11 col0\" >Transformed Train Set</td>\n",
       "                        <td id=\"T_19eeb092_37d1_11eb_8cd6_e0b9a5834b53row11_col1\" class=\"data row11 col1\" >(2944, 341)</td>\n",
       "            </tr>\n",
       "            <tr>\n",
       "                        <th id=\"T_19eeb092_37d1_11eb_8cd6_e0b9a5834b53level0_row12\" class=\"row_heading level0 row12\" >12</th>\n",
       "                        <td id=\"T_19eeb092_37d1_11eb_8cd6_e0b9a5834b53row12_col0\" class=\"data row12 col0\" >Transformed Test Set</td>\n",
       "                        <td id=\"T_19eeb092_37d1_11eb_8cd6_e0b9a5834b53row12_col1\" class=\"data row12 col1\" >(1262, 341)</td>\n",
       "            </tr>\n",
       "            <tr>\n",
       "                        <th id=\"T_19eeb092_37d1_11eb_8cd6_e0b9a5834b53level0_row13\" class=\"row_heading level0 row13\" >13</th>\n",
       "                        <td id=\"T_19eeb092_37d1_11eb_8cd6_e0b9a5834b53row13_col0\" class=\"data row13 col0\" >Numeric Imputer </td>\n",
       "                        <td id=\"T_19eeb092_37d1_11eb_8cd6_e0b9a5834b53row13_col1\" class=\"data row13 col1\" >mean</td>\n",
       "            </tr>\n",
       "            <tr>\n",
       "                        <th id=\"T_19eeb092_37d1_11eb_8cd6_e0b9a5834b53level0_row14\" class=\"row_heading level0 row14\" >14</th>\n",
       "                        <td id=\"T_19eeb092_37d1_11eb_8cd6_e0b9a5834b53row14_col0\" class=\"data row14 col0\" >Categorical Imputer </td>\n",
       "                        <td id=\"T_19eeb092_37d1_11eb_8cd6_e0b9a5834b53row14_col1\" class=\"data row14 col1\" >constant</td>\n",
       "            </tr>\n",
       "            <tr>\n",
       "                        <th id=\"T_19eeb092_37d1_11eb_8cd6_e0b9a5834b53level0_row15\" class=\"row_heading level0 row15\" >15</th>\n",
       "                        <td id=\"T_19eeb092_37d1_11eb_8cd6_e0b9a5834b53row15_col0\" class=\"data row15 col0\" >Normalize </td>\n",
       "                        <td id=\"T_19eeb092_37d1_11eb_8cd6_e0b9a5834b53row15_col1\" class=\"data row15 col1\" >False</td>\n",
       "            </tr>\n",
       "            <tr>\n",
       "                        <th id=\"T_19eeb092_37d1_11eb_8cd6_e0b9a5834b53level0_row16\" class=\"row_heading level0 row16\" >16</th>\n",
       "                        <td id=\"T_19eeb092_37d1_11eb_8cd6_e0b9a5834b53row16_col0\" class=\"data row16 col0\" >Normalize Method </td>\n",
       "                        <td id=\"T_19eeb092_37d1_11eb_8cd6_e0b9a5834b53row16_col1\" class=\"data row16 col1\" >None</td>\n",
       "            </tr>\n",
       "            <tr>\n",
       "                        <th id=\"T_19eeb092_37d1_11eb_8cd6_e0b9a5834b53level0_row17\" class=\"row_heading level0 row17\" >17</th>\n",
       "                        <td id=\"T_19eeb092_37d1_11eb_8cd6_e0b9a5834b53row17_col0\" class=\"data row17 col0\" >Transformation </td>\n",
       "                        <td id=\"T_19eeb092_37d1_11eb_8cd6_e0b9a5834b53row17_col1\" class=\"data row17 col1\" >False</td>\n",
       "            </tr>\n",
       "            <tr>\n",
       "                        <th id=\"T_19eeb092_37d1_11eb_8cd6_e0b9a5834b53level0_row18\" class=\"row_heading level0 row18\" >18</th>\n",
       "                        <td id=\"T_19eeb092_37d1_11eb_8cd6_e0b9a5834b53row18_col0\" class=\"data row18 col0\" >Transformation Method </td>\n",
       "                        <td id=\"T_19eeb092_37d1_11eb_8cd6_e0b9a5834b53row18_col1\" class=\"data row18 col1\" >None</td>\n",
       "            </tr>\n",
       "            <tr>\n",
       "                        <th id=\"T_19eeb092_37d1_11eb_8cd6_e0b9a5834b53level0_row19\" class=\"row_heading level0 row19\" >19</th>\n",
       "                        <td id=\"T_19eeb092_37d1_11eb_8cd6_e0b9a5834b53row19_col0\" class=\"data row19 col0\" >PCA </td>\n",
       "                        <td id=\"T_19eeb092_37d1_11eb_8cd6_e0b9a5834b53row19_col1\" class=\"data row19 col1\" >False</td>\n",
       "            </tr>\n",
       "            <tr>\n",
       "                        <th id=\"T_19eeb092_37d1_11eb_8cd6_e0b9a5834b53level0_row20\" class=\"row_heading level0 row20\" >20</th>\n",
       "                        <td id=\"T_19eeb092_37d1_11eb_8cd6_e0b9a5834b53row20_col0\" class=\"data row20 col0\" >PCA Method </td>\n",
       "                        <td id=\"T_19eeb092_37d1_11eb_8cd6_e0b9a5834b53row20_col1\" class=\"data row20 col1\" >None</td>\n",
       "            </tr>\n",
       "            <tr>\n",
       "                        <th id=\"T_19eeb092_37d1_11eb_8cd6_e0b9a5834b53level0_row21\" class=\"row_heading level0 row21\" >21</th>\n",
       "                        <td id=\"T_19eeb092_37d1_11eb_8cd6_e0b9a5834b53row21_col0\" class=\"data row21 col0\" >PCA Components </td>\n",
       "                        <td id=\"T_19eeb092_37d1_11eb_8cd6_e0b9a5834b53row21_col1\" class=\"data row21 col1\" >None</td>\n",
       "            </tr>\n",
       "            <tr>\n",
       "                        <th id=\"T_19eeb092_37d1_11eb_8cd6_e0b9a5834b53level0_row22\" class=\"row_heading level0 row22\" >22</th>\n",
       "                        <td id=\"T_19eeb092_37d1_11eb_8cd6_e0b9a5834b53row22_col0\" class=\"data row22 col0\" >Ignore Low Variance </td>\n",
       "                        <td id=\"T_19eeb092_37d1_11eb_8cd6_e0b9a5834b53row22_col1\" class=\"data row22 col1\" >False</td>\n",
       "            </tr>\n",
       "            <tr>\n",
       "                        <th id=\"T_19eeb092_37d1_11eb_8cd6_e0b9a5834b53level0_row23\" class=\"row_heading level0 row23\" >23</th>\n",
       "                        <td id=\"T_19eeb092_37d1_11eb_8cd6_e0b9a5834b53row23_col0\" class=\"data row23 col0\" >Combine Rare Levels </td>\n",
       "                        <td id=\"T_19eeb092_37d1_11eb_8cd6_e0b9a5834b53row23_col1\" class=\"data row23 col1\" >False</td>\n",
       "            </tr>\n",
       "            <tr>\n",
       "                        <th id=\"T_19eeb092_37d1_11eb_8cd6_e0b9a5834b53level0_row24\" class=\"row_heading level0 row24\" >24</th>\n",
       "                        <td id=\"T_19eeb092_37d1_11eb_8cd6_e0b9a5834b53row24_col0\" class=\"data row24 col0\" >Rare Level Threshold </td>\n",
       "                        <td id=\"T_19eeb092_37d1_11eb_8cd6_e0b9a5834b53row24_col1\" class=\"data row24 col1\" >None</td>\n",
       "            </tr>\n",
       "            <tr>\n",
       "                        <th id=\"T_19eeb092_37d1_11eb_8cd6_e0b9a5834b53level0_row25\" class=\"row_heading level0 row25\" >25</th>\n",
       "                        <td id=\"T_19eeb092_37d1_11eb_8cd6_e0b9a5834b53row25_col0\" class=\"data row25 col0\" >Numeric Binning </td>\n",
       "                        <td id=\"T_19eeb092_37d1_11eb_8cd6_e0b9a5834b53row25_col1\" class=\"data row25 col1\" >False</td>\n",
       "            </tr>\n",
       "            <tr>\n",
       "                        <th id=\"T_19eeb092_37d1_11eb_8cd6_e0b9a5834b53level0_row26\" class=\"row_heading level0 row26\" >26</th>\n",
       "                        <td id=\"T_19eeb092_37d1_11eb_8cd6_e0b9a5834b53row26_col0\" class=\"data row26 col0\" >Remove Outliers </td>\n",
       "                        <td id=\"T_19eeb092_37d1_11eb_8cd6_e0b9a5834b53row26_col1\" class=\"data row26 col1\" >False</td>\n",
       "            </tr>\n",
       "            <tr>\n",
       "                        <th id=\"T_19eeb092_37d1_11eb_8cd6_e0b9a5834b53level0_row27\" class=\"row_heading level0 row27\" >27</th>\n",
       "                        <td id=\"T_19eeb092_37d1_11eb_8cd6_e0b9a5834b53row27_col0\" class=\"data row27 col0\" >Outliers Threshold </td>\n",
       "                        <td id=\"T_19eeb092_37d1_11eb_8cd6_e0b9a5834b53row27_col1\" class=\"data row27 col1\" >None</td>\n",
       "            </tr>\n",
       "            <tr>\n",
       "                        <th id=\"T_19eeb092_37d1_11eb_8cd6_e0b9a5834b53level0_row28\" class=\"row_heading level0 row28\" >28</th>\n",
       "                        <td id=\"T_19eeb092_37d1_11eb_8cd6_e0b9a5834b53row28_col0\" class=\"data row28 col0\" >Remove Multicollinearity </td>\n",
       "                        <td id=\"T_19eeb092_37d1_11eb_8cd6_e0b9a5834b53row28_col1\" class=\"data row28 col1\" >False</td>\n",
       "            </tr>\n",
       "            <tr>\n",
       "                        <th id=\"T_19eeb092_37d1_11eb_8cd6_e0b9a5834b53level0_row29\" class=\"row_heading level0 row29\" >29</th>\n",
       "                        <td id=\"T_19eeb092_37d1_11eb_8cd6_e0b9a5834b53row29_col0\" class=\"data row29 col0\" >Multicollinearity Threshold </td>\n",
       "                        <td id=\"T_19eeb092_37d1_11eb_8cd6_e0b9a5834b53row29_col1\" class=\"data row29 col1\" >None</td>\n",
       "            </tr>\n",
       "            <tr>\n",
       "                        <th id=\"T_19eeb092_37d1_11eb_8cd6_e0b9a5834b53level0_row30\" class=\"row_heading level0 row30\" >30</th>\n",
       "                        <td id=\"T_19eeb092_37d1_11eb_8cd6_e0b9a5834b53row30_col0\" class=\"data row30 col0\" >Clustering </td>\n",
       "                        <td id=\"T_19eeb092_37d1_11eb_8cd6_e0b9a5834b53row30_col1\" class=\"data row30 col1\" >False</td>\n",
       "            </tr>\n",
       "            <tr>\n",
       "                        <th id=\"T_19eeb092_37d1_11eb_8cd6_e0b9a5834b53level0_row31\" class=\"row_heading level0 row31\" >31</th>\n",
       "                        <td id=\"T_19eeb092_37d1_11eb_8cd6_e0b9a5834b53row31_col0\" class=\"data row31 col0\" >Clustering Iteration </td>\n",
       "                        <td id=\"T_19eeb092_37d1_11eb_8cd6_e0b9a5834b53row31_col1\" class=\"data row31 col1\" >None</td>\n",
       "            </tr>\n",
       "            <tr>\n",
       "                        <th id=\"T_19eeb092_37d1_11eb_8cd6_e0b9a5834b53level0_row32\" class=\"row_heading level0 row32\" >32</th>\n",
       "                        <td id=\"T_19eeb092_37d1_11eb_8cd6_e0b9a5834b53row32_col0\" class=\"data row32 col0\" >Polynomial Features </td>\n",
       "                        <td id=\"T_19eeb092_37d1_11eb_8cd6_e0b9a5834b53row32_col1\" class=\"data row32 col1\" >False</td>\n",
       "            </tr>\n",
       "            <tr>\n",
       "                        <th id=\"T_19eeb092_37d1_11eb_8cd6_e0b9a5834b53level0_row33\" class=\"row_heading level0 row33\" >33</th>\n",
       "                        <td id=\"T_19eeb092_37d1_11eb_8cd6_e0b9a5834b53row33_col0\" class=\"data row33 col0\" >Polynomial Degree </td>\n",
       "                        <td id=\"T_19eeb092_37d1_11eb_8cd6_e0b9a5834b53row33_col1\" class=\"data row33 col1\" >None</td>\n",
       "            </tr>\n",
       "            <tr>\n",
       "                        <th id=\"T_19eeb092_37d1_11eb_8cd6_e0b9a5834b53level0_row34\" class=\"row_heading level0 row34\" >34</th>\n",
       "                        <td id=\"T_19eeb092_37d1_11eb_8cd6_e0b9a5834b53row34_col0\" class=\"data row34 col0\" >Trignometry Features </td>\n",
       "                        <td id=\"T_19eeb092_37d1_11eb_8cd6_e0b9a5834b53row34_col1\" class=\"data row34 col1\" >False</td>\n",
       "            </tr>\n",
       "            <tr>\n",
       "                        <th id=\"T_19eeb092_37d1_11eb_8cd6_e0b9a5834b53level0_row35\" class=\"row_heading level0 row35\" >35</th>\n",
       "                        <td id=\"T_19eeb092_37d1_11eb_8cd6_e0b9a5834b53row35_col0\" class=\"data row35 col0\" >Polynomial Threshold </td>\n",
       "                        <td id=\"T_19eeb092_37d1_11eb_8cd6_e0b9a5834b53row35_col1\" class=\"data row35 col1\" >None</td>\n",
       "            </tr>\n",
       "            <tr>\n",
       "                        <th id=\"T_19eeb092_37d1_11eb_8cd6_e0b9a5834b53level0_row36\" class=\"row_heading level0 row36\" >36</th>\n",
       "                        <td id=\"T_19eeb092_37d1_11eb_8cd6_e0b9a5834b53row36_col0\" class=\"data row36 col0\" >Group Features </td>\n",
       "                        <td id=\"T_19eeb092_37d1_11eb_8cd6_e0b9a5834b53row36_col1\" class=\"data row36 col1\" >False</td>\n",
       "            </tr>\n",
       "            <tr>\n",
       "                        <th id=\"T_19eeb092_37d1_11eb_8cd6_e0b9a5834b53level0_row37\" class=\"row_heading level0 row37\" >37</th>\n",
       "                        <td id=\"T_19eeb092_37d1_11eb_8cd6_e0b9a5834b53row37_col0\" class=\"data row37 col0\" >Feature Selection </td>\n",
       "                        <td id=\"T_19eeb092_37d1_11eb_8cd6_e0b9a5834b53row37_col1\" class=\"data row37 col1\" >False</td>\n",
       "            </tr>\n",
       "            <tr>\n",
       "                        <th id=\"T_19eeb092_37d1_11eb_8cd6_e0b9a5834b53level0_row38\" class=\"row_heading level0 row38\" >38</th>\n",
       "                        <td id=\"T_19eeb092_37d1_11eb_8cd6_e0b9a5834b53row38_col0\" class=\"data row38 col0\" >Features Selection Threshold </td>\n",
       "                        <td id=\"T_19eeb092_37d1_11eb_8cd6_e0b9a5834b53row38_col1\" class=\"data row38 col1\" >None</td>\n",
       "            </tr>\n",
       "            <tr>\n",
       "                        <th id=\"T_19eeb092_37d1_11eb_8cd6_e0b9a5834b53level0_row39\" class=\"row_heading level0 row39\" >39</th>\n",
       "                        <td id=\"T_19eeb092_37d1_11eb_8cd6_e0b9a5834b53row39_col0\" class=\"data row39 col0\" >Feature Interaction </td>\n",
       "                        <td id=\"T_19eeb092_37d1_11eb_8cd6_e0b9a5834b53row39_col1\" class=\"data row39 col1\" >False</td>\n",
       "            </tr>\n",
       "            <tr>\n",
       "                        <th id=\"T_19eeb092_37d1_11eb_8cd6_e0b9a5834b53level0_row40\" class=\"row_heading level0 row40\" >40</th>\n",
       "                        <td id=\"T_19eeb092_37d1_11eb_8cd6_e0b9a5834b53row40_col0\" class=\"data row40 col0\" >Feature Ratio </td>\n",
       "                        <td id=\"T_19eeb092_37d1_11eb_8cd6_e0b9a5834b53row40_col1\" class=\"data row40 col1\" >False</td>\n",
       "            </tr>\n",
       "            <tr>\n",
       "                        <th id=\"T_19eeb092_37d1_11eb_8cd6_e0b9a5834b53level0_row41\" class=\"row_heading level0 row41\" >41</th>\n",
       "                        <td id=\"T_19eeb092_37d1_11eb_8cd6_e0b9a5834b53row41_col0\" class=\"data row41 col0\" >Interaction Threshold </td>\n",
       "                        <td id=\"T_19eeb092_37d1_11eb_8cd6_e0b9a5834b53row41_col1\" class=\"data row41 col1\" >None</td>\n",
       "            </tr>\n",
       "    </tbody></table>"
      ],
      "text/plain": [
       "<pandas.io.formats.style.Styler at 0x7fca761871f0>"
      ]
     },
     "metadata": {},
     "output_type": "display_data"
    }
   ],
   "source": [
    "exp_reg101 = setup(data = scrape.drop(columns=['Unnamed: 0']), target = 'Prezzo', categorical_features = ['Anno di costruzione', 'Aria Condizionata', 'Arredamento', 'Ascensore', 'Balcone', 'Box', 'Cantina', 'Condizioni', 'Giardino', 'MQ Box', 'MQ Giardino', 'Piano', 'Piscina', 'Portineria', 'Riscaldamento', 'Soffitta', 'Spese condominiali', 'Stato al rogito', 'Terrazzo', 'Distretto'], numeric_features=['Bagni', 'Locali', 'Metri quadri'], remove_outliers= False) "
   ]
  },
  {
   "cell_type": "code",
   "execution_count": 10,
   "metadata": {},
   "outputs": [
    {
     "data": {
      "application/vnd.jupyter.widget-view+json": {
       "model_id": "b8cbad125cfc4498bd538cc5f562321d",
       "version_major": 2,
       "version_minor": 0
      },
      "text/plain": [
       "IntProgress(value=0, description='Processing: ', max=241)"
      ]
     },
     "metadata": {},
     "output_type": "display_data"
    },
    {
     "data": {
      "text/html": [
       "<div>\n",
       "<style scoped>\n",
       "    .dataframe tbody tr th:only-of-type {\n",
       "        vertical-align: middle;\n",
       "    }\n",
       "\n",
       "    .dataframe tbody tr th {\n",
       "        vertical-align: top;\n",
       "    }\n",
       "\n",
       "    .dataframe thead th {\n",
       "        text-align: right;\n",
       "    }\n",
       "</style>\n",
       "<table border=\"1\" class=\"dataframe\">\n",
       "  <thead>\n",
       "    <tr style=\"text-align: right;\">\n",
       "      <th></th>\n",
       "      <th></th>\n",
       "      <th></th>\n",
       "    </tr>\n",
       "    <tr>\n",
       "      <th></th>\n",
       "      <th></th>\n",
       "      <th></th>\n",
       "    </tr>\n",
       "  </thead>\n",
       "  <tbody>\n",
       "    <tr>\n",
       "      <th>Initiated</th>\n",
       "      <td>. . . . . . . . . . . . . . . . . .</td>\n",
       "      <td>15:41:21</td>\n",
       "    </tr>\n",
       "    <tr>\n",
       "      <th>Status</th>\n",
       "      <td>. . . . . . . . . . . . . . . . . .</td>\n",
       "      <td>Loading Dependencies</td>\n",
       "    </tr>\n",
       "    <tr>\n",
       "      <th>Estimator</th>\n",
       "      <td>. . . . . . . . . . . . . . . . . .</td>\n",
       "      <td>Compiling Library</td>\n",
       "    </tr>\n",
       "    <tr>\n",
       "      <th>ETC</th>\n",
       "      <td>. . . . . . . . . . . . . . . . . .</td>\n",
       "      <td>Calculating ETC</td>\n",
       "    </tr>\n",
       "  </tbody>\n",
       "</table>\n",
       "</div>"
      ],
      "text/plain": [
       "                                                                    \n",
       "                                                                    \n",
       "Initiated  . . . . . . . . . . . . . . . . . .              15:41:21\n",
       "Status     . . . . . . . . . . . . . . . . . .  Loading Dependencies\n",
       "Estimator  . . . . . . . . . . . . . . . . . .     Compiling Library\n",
       "ETC        . . . . . . . . . . . . . . . . . .       Calculating ETC"
      ]
     },
     "metadata": {},
     "output_type": "display_data"
    },
    {
     "data": {
      "text/html": [
       "<div>\n",
       "<style scoped>\n",
       "    .dataframe tbody tr th:only-of-type {\n",
       "        vertical-align: middle;\n",
       "    }\n",
       "\n",
       "    .dataframe tbody tr th {\n",
       "        vertical-align: top;\n",
       "    }\n",
       "\n",
       "    .dataframe thead th {\n",
       "        text-align: right;\n",
       "    }\n",
       "</style>\n",
       "<table border=\"1\" class=\"dataframe\">\n",
       "  <thead>\n",
       "    <tr style=\"text-align: right;\">\n",
       "      <th></th>\n",
       "      <th>Model</th>\n",
       "      <th>MAE</th>\n",
       "      <th>MSE</th>\n",
       "      <th>RMSE</th>\n",
       "      <th>R2</th>\n",
       "      <th>RMSLE</th>\n",
       "      <th>MAPE</th>\n",
       "      <th>TT (Sec)</th>\n",
       "    </tr>\n",
       "  </thead>\n",
       "  <tbody>\n",
       "  </tbody>\n",
       "</table>\n",
       "</div>"
      ],
      "text/plain": [
       "Empty DataFrame\n",
       "Columns: [Model, MAE, MSE, RMSE, R2, RMSLE, MAPE, TT (Sec)]\n",
       "Index: []"
      ]
     },
     "metadata": {},
     "output_type": "display_data"
    },
    {
     "ename": "ModuleNotFoundError",
     "evalue": "No module named 'catboost'",
     "output_type": "error",
     "traceback": [
      "\u001b[0;31m---------------------------------------------------------------------------\u001b[0m",
      "\u001b[0;31mModuleNotFoundError\u001b[0m                       Traceback (most recent call last)",
      "\u001b[0;32m<ipython-input-10-74b0947a5b35>\u001b[0m in \u001b[0;36m<module>\u001b[0;34m\u001b[0m\n\u001b[0;32m----> 1\u001b[0;31m \u001b[0mcompare_models\u001b[0m\u001b[0;34m(\u001b[0m\u001b[0mblacklist\u001b[0m\u001b[0;34m=\u001b[0m\u001b[0;34m[\u001b[0m\u001b[0;34m'lar'\u001b[0m\u001b[0;34m]\u001b[0m\u001b[0;34m)\u001b[0m\u001b[0;34m\u001b[0m\u001b[0;34m\u001b[0m\u001b[0m\n\u001b[0m",
      "\u001b[0;32m~/.local/lib/python3.9/site-packages/pycaret/regression.py\u001b[0m in \u001b[0;36mcompare_models\u001b[0;34m(blacklist, whitelist, fold, round, sort, n_select, turbo, verbose)\u001b[0m\n\u001b[1;32m   3781\u001b[0m     \u001b[0;32mfrom\u001b[0m \u001b[0msklearn\u001b[0m\u001b[0;34m.\u001b[0m\u001b[0mneural_network\u001b[0m \u001b[0;32mimport\u001b[0m \u001b[0mMLPRegressor\u001b[0m\u001b[0;34m\u001b[0m\u001b[0;34m\u001b[0m\u001b[0m\n\u001b[1;32m   3782\u001b[0m     \u001b[0;32mfrom\u001b[0m \u001b[0mxgboost\u001b[0m \u001b[0;32mimport\u001b[0m \u001b[0mXGBRegressor\u001b[0m\u001b[0;34m\u001b[0m\u001b[0;34m\u001b[0m\u001b[0m\n\u001b[0;32m-> 3783\u001b[0;31m     \u001b[0;32mfrom\u001b[0m \u001b[0mcatboost\u001b[0m \u001b[0;32mimport\u001b[0m \u001b[0mCatBoostRegressor\u001b[0m\u001b[0;34m\u001b[0m\u001b[0;34m\u001b[0m\u001b[0m\n\u001b[0m\u001b[1;32m   3784\u001b[0m     \u001b[0;32mtry\u001b[0m\u001b[0;34m:\u001b[0m\u001b[0;34m\u001b[0m\u001b[0;34m\u001b[0m\u001b[0m\n\u001b[1;32m   3785\u001b[0m         \u001b[0;32mimport\u001b[0m \u001b[0mlightgbm\u001b[0m \u001b[0;32mas\u001b[0m \u001b[0mlgb\u001b[0m\u001b[0;34m\u001b[0m\u001b[0;34m\u001b[0m\u001b[0m\n",
      "\u001b[0;31mModuleNotFoundError\u001b[0m: No module named 'catboost'"
     ]
    }
   ],
   "source": [
    "compare_models(blacklist=['lar'])"
   ]
  },
  {
   "cell_type": "code",
   "execution_count": null,
   "metadata": {},
   "outputs": [],
   "source": [
    "'Unnamed: 0', 'Anno di costruzione', 'Aria Condizionata', 'Arredamento', 'Ascensore', 'Balcone', 'Box', 'Cantina', 'Condizioni', 'Giardino', 'MQ Box', 'MQ Giardino', 'Piano', 'Piscina', 'Portineria', , 'Riscaldamento', 'Soffitta', 'Spese condominiali', 'Stato al rogito', 'Terrazzo', 'Distretto'\n",
    "        \n",
    "'Bagni', 'Locali', 'Metri quadri'\n",
    "\n",
    "'Prezzo'"
   ]
  }
 ],
 "metadata": {
  "kernelspec": {
   "display_name": "Python 3",
   "language": "python",
   "name": "python3"
  },
  "language_info": {
   "codemirror_mode": {
    "name": "ipython",
    "version": 3
   },
   "file_extension": ".py",
   "mimetype": "text/x-python",
   "name": "python",
   "nbconvert_exporter": "python",
   "pygments_lexer": "ipython3",
   "version": "3.9.0"
  }
 },
 "nbformat": 4,
 "nbformat_minor": 4
}
